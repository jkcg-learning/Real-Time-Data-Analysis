{
  "nbformat": 4,
  "nbformat_minor": 0,
  "metadata": {
    "kernelspec": {
      "display_name": "Python 3",
      "language": "python",
      "name": "python3"
    },
    "language_info": {
      "codemirror_mode": {
        "name": "ipython",
        "version": 3
      },
      "file_extension": ".py",
      "mimetype": "text/x-python",
      "name": "python",
      "nbconvert_exporter": "python",
      "pygments_lexer": "ipython3",
      "version": "3.7.4"
    },
    "colab": {
      "name": "Analysis Using Real-Time Data.ipynb",
      "provenance": []
    }
  },
  "cells": [
    {
      "cell_type": "markdown",
      "metadata": {
        "id": "5s0V87K85rdM"
      },
      "source": [
        "# Analysis of COVID-19 in India using Real Time Data\n",
        "\n",
        "### Data Scraping - API, Requests, JSON\n",
        "### Data Manipulation - Pandas\n",
        "### Data visualization - Plotly\n",
        "\n",
        "#### Author: Jyothish Kumar C G"
      ]
    },
    {
      "cell_type": "markdown",
      "metadata": {
        "id": "q7lnRuoy5rdP"
      },
      "source": [
        "This project is an attempt to work on analysis using real time data. The real time datas are fetched from the api published by website https://www.covid19india.org/ . This website is not officially owned or published by the Government of India. But they update  the stats based on state press bulletins, official (CM, Health M) handles, PBI, Press Trust of India, ANI reports."
      ]
    },
    {
      "cell_type": "code",
      "metadata": {
        "id": "pFSX9iO25rdR"
      },
      "source": [
        "import requests\n",
        "import json"
      ],
      "execution_count": 1,
      "outputs": []
    },
    {
      "cell_type": "markdown",
      "metadata": {
        "id": "LyPuWudR5rdb"
      },
      "source": [
        "**API Details are published under https://api.covid19india.org/**\n",
        "\n",
        "**Patient Level : Raw Data Partition 6 (From Jun 5th onwards)\thttps://api.covid19india.org/raw_data6.json**\n",
        "\n",
        "Using Requests to fetch the data"
      ]
    },
    {
      "cell_type": "code",
      "metadata": {
        "id": "dYd1R67h5rdd",
        "outputId": "f8ba1c27-edfa-4600-f5d8-240913c15bb2",
        "colab": {
          "base_uri": "https://localhost:8080/"
        }
      },
      "source": [
        "response_patient_level = requests.get(\"https://api.covid19india.org/raw_data6.json\")\n",
        "\n",
        "status_code = response_patient_level.status_code\n",
        "print(\"\\nStatus Code: \", status_code)\n",
        "\n",
        "response_type = type(response_patient_level)\n",
        "print(\"\\nResponse Type : \",response_type)\n",
        "\n",
        "headers = response_patient_level.headers\n",
        "print(\"\\nResponse Headers: \",headers)\n",
        "\n",
        "content_type = headers[\"Content-Type\"]\n",
        "print(\"\\nContent Type: \",content_type)"
      ],
      "execution_count": 2,
      "outputs": [
        {
          "output_type": "stream",
          "text": [
            "\n",
            "Status Code:  200\n",
            "\n",
            "Response Type :  <class 'requests.models.Response'>\n",
            "\n",
            "Response Headers:  {'Connection': 'keep-alive', 'Content-Length': '475101', 'Server': 'GitHub.com', 'Content-Type': 'application/json; charset=utf-8', 'Strict-Transport-Security': 'max-age=31556952', 'Last-Modified': 'Sat, 31 Oct 2020 07:58:20 GMT', 'ETag': 'W/\"5f9d191c-d406d0\"', 'Access-Control-Allow-Origin': '*', 'Expires': 'Sat, 31 Oct 2020 09:14:59 GMT', 'Cache-Control': 'max-age=600', 'Content-Encoding': 'gzip', 'X-Proxy-Cache': 'MISS', 'X-GitHub-Request-Id': '1D86:631C:6228:7862:5F9D28B9', 'Accept-Ranges': 'bytes', 'Date': 'Sat, 31 Oct 2020 09:04:59 GMT', 'Via': '1.1 varnish', 'Age': '0', 'X-Served-By': 'cache-wdc5576-WDC', 'X-Cache': 'MISS', 'X-Cache-Hits': '0', 'X-Timer': 'S1604135100.511164,VS0,VE97', 'Vary': 'Accept-Encoding', 'X-Fastly-Request-ID': 'b4a05b600832fcb8e510cb01a7590eeecfa18e52'}\n",
            "\n",
            "Content Type:  application/json; charset=utf-8\n"
          ],
          "name": "stdout"
        }
      ]
    },
    {
      "cell_type": "markdown",
      "metadata": {
        "id": "kSrSQ0-v5rdn"
      },
      "source": [
        "**Converting the Data to dictionary type using JSON**"
      ]
    },
    {
      "cell_type": "code",
      "metadata": {
        "id": "YMZvL5fB5rdo",
        "outputId": "f66e0632-1930-4063-cdc3-c190d91d4033",
        "colab": {
          "base_uri": "https://localhost:8080/"
        }
      },
      "source": [
        "json_data = response_patient_level.json()\n",
        "\n",
        "print(\"\\nType of Data Retrieved \", type(json_data))\n",
        "\n",
        "print(\"\\nData Retrieved: \",json_data['raw_data'][0:5])"
      ],
      "execution_count": 3,
      "outputs": [
        {
          "output_type": "stream",
          "text": [
            "\n",
            "Type of Data Retrieved  <class 'dict'>\n",
            "\n",
            "Data Retrieved:  [{'agebracket': '', 'contractedfromwhichpatientsuspected': '', 'currentstatus': 'Hospitalized', 'dateannounced': '05/06/2020', 'detectedcity': '', 'detecteddistrict': 'Lunglei', 'detectedstate': 'Mizoram', 'entryid': '48613', 'gender': '', 'nationality': '', 'notes': 'Institutional quarantine at Lunglei', 'numcases': '1', 'patientnumber': '78000', 'source1': 'https://twitter.com/dipr_mizoram/status/1268736125104910336', 'source2': '', 'source3': '', 'statecode': 'MZ', 'statepatientnumber': '', 'statuschangedate': '', 'typeoftransmission': ''}, {'agebracket': '', 'contractedfromwhichpatientsuspected': '', 'currentstatus': 'Hospitalized', 'dateannounced': '05/06/2020', 'detectedcity': 'Falkawn', 'detecteddistrict': 'Aizawl', 'detectedstate': 'Mizoram', 'entryid': '48614', 'gender': '', 'nationality': '', 'notes': 'ZMC', 'numcases': '4', 'patientnumber': '78001', 'source1': 'https://twitter.com/dipr_mizoram/status/1268736125104910336', 'source2': '', 'source3': '', 'statecode': 'MZ', 'statepatientnumber': '', 'statuschangedate': '', 'typeoftransmission': ''}, {'agebracket': '', 'contractedfromwhichpatientsuspected': '', 'currentstatus': 'Hospitalized', 'dateannounced': '05/06/2020', 'detectedcity': '', 'detecteddistrict': '', 'detectedstate': 'Nagaland', 'entryid': '48615', 'gender': '', 'nationality': '', 'notes': '', 'numcases': '14', 'patientnumber': '78002', 'source1': 'https://twitter.com/pangnyu/status/1268747371938287616', 'source2': '', 'source3': '', 'statecode': 'NL', 'statepatientnumber': '', 'statuschangedate': '', 'typeoftransmission': ''}, {'agebracket': '', 'contractedfromwhichpatientsuspected': '', 'currentstatus': 'Deceased', 'dateannounced': '05/06/2020', 'detectedcity': '', 'detecteddistrict': 'Khordha', 'detectedstate': 'Odisha', 'entryid': '48616', 'gender': '', 'nationality': '', 'notes': '', 'numcases': '1', 'patientnumber': '78003', 'source1': '', 'source2': '', 'source3': '', 'statecode': 'OR', 'statepatientnumber': '', 'statuschangedate': '', 'typeoftransmission': ''}, {'agebracket': '', 'contractedfromwhichpatientsuspected': '', 'currentstatus': 'Hospitalized', 'dateannounced': '05/06/2020', 'detectedcity': '', 'detecteddistrict': 'Unassigned', 'detectedstate': 'State Unassigned', 'entryid': '48617', 'gender': '', 'nationality': '', 'notes': '', 'numcases': '127', 'patientnumber': '78004', 'source1': 'mohfw.gov.in', 'source2': '', 'source3': '', 'statecode': 'UN', 'statepatientnumber': '', 'statuschangedate': '', 'typeoftransmission': ''}]\n"
          ],
          "name": "stdout"
        }
      ]
    },
    {
      "cell_type": "markdown",
      "metadata": {
        "id": "OIbcbjYE5rdw"
      },
      "source": [
        "**As the above Data is more on Granule level details about patients, I have skipped that and scraped the Nation wide Count statistics data** \n",
        "\n",
        "**National Level :Time series, State-wise stats and Test counts\thttps://api.covid19india.org/data.json**"
      ]
    },
    {
      "cell_type": "code",
      "metadata": {
        "id": "cP1lfz7r5rdx",
        "outputId": "b7dfabb0-2e0e-47aa-f7a9-0ba4895ecdc1",
        "colab": {
          "base_uri": "https://localhost:8080/"
        }
      },
      "source": [
        "response_count_level = requests.get(\"https://api.covid19india.org/data.json\")\n",
        "\n",
        "status_code = response_count_level\n",
        "print(\"\\nStatus Code: \", status_code)\n",
        "\n",
        "json_data_count = response_count_level.json()\n",
        "\n",
        "print(\"\\nType of Data Retrieved \", type(json_data_count))\n",
        "\n",
        "print(\"\\nData Retrieved: \",json_data_count['cases_time_series'][0:5])\n",
        "\n",
        "print(\"\\nKeys of the JSON : \",json_data_count.keys())\n"
      ],
      "execution_count": 4,
      "outputs": [
        {
          "output_type": "stream",
          "text": [
            "\n",
            "Status Code:  <Response [200]>\n",
            "\n",
            "Type of Data Retrieved  <class 'dict'>\n",
            "\n",
            "Data Retrieved:  [{'dailyconfirmed': '1', 'dailydeceased': '0', 'dailyrecovered': '0', 'date': '30 January ', 'dateymd': '2020-01-30', 'totalconfirmed': '1', 'totaldeceased': '0', 'totalrecovered': '0'}, {'dailyconfirmed': '0', 'dailydeceased': '0', 'dailyrecovered': '0', 'date': '31 January ', 'dateymd': '2020-01-31', 'totalconfirmed': '1', 'totaldeceased': '0', 'totalrecovered': '0'}, {'dailyconfirmed': '0', 'dailydeceased': '0', 'dailyrecovered': '0', 'date': '01 February ', 'dateymd': '2020-02-01', 'totalconfirmed': '1', 'totaldeceased': '0', 'totalrecovered': '0'}, {'dailyconfirmed': '1', 'dailydeceased': '0', 'dailyrecovered': '0', 'date': '02 February ', 'dateymd': '2020-02-02', 'totalconfirmed': '2', 'totaldeceased': '0', 'totalrecovered': '0'}, {'dailyconfirmed': '1', 'dailydeceased': '0', 'dailyrecovered': '0', 'date': '03 February ', 'dateymd': '2020-02-03', 'totalconfirmed': '3', 'totaldeceased': '0', 'totalrecovered': '0'}]\n",
            "\n",
            "Keys of the JSON :  dict_keys(['cases_time_series', 'statewise', 'tested'])\n"
          ],
          "name": "stdout"
        }
      ]
    },
    {
      "cell_type": "markdown",
      "metadata": {
        "id": "-SkMDASK5rd3"
      },
      "source": [
        "**Extracting the different sets of data using their keys**\n",
        "\n",
        "*Time Series - Nation wide count on a daily basis*\n",
        "\n",
        "*State Wise -  State wise count on a daily basis*\n",
        "\n",
        "*Tested - Samples tested on a daily basis*"
      ]
    },
    {
      "cell_type": "code",
      "metadata": {
        "id": "lTm16zPv5rd4",
        "outputId": "850c29bb-8d00-47e9-8539-2093a82c99c9",
        "colab": {
          "base_uri": "https://localhost:8080/"
        }
      },
      "source": [
        "time_series = json_data_count[\"cases_time_series\"]\n",
        "time_series[0:2]"
      ],
      "execution_count": 5,
      "outputs": [
        {
          "output_type": "execute_result",
          "data": {
            "text/plain": [
              "[{'dailyconfirmed': '1',\n",
              "  'dailydeceased': '0',\n",
              "  'dailyrecovered': '0',\n",
              "  'date': '30 January ',\n",
              "  'dateymd': '2020-01-30',\n",
              "  'totalconfirmed': '1',\n",
              "  'totaldeceased': '0',\n",
              "  'totalrecovered': '0'},\n",
              " {'dailyconfirmed': '0',\n",
              "  'dailydeceased': '0',\n",
              "  'dailyrecovered': '0',\n",
              "  'date': '31 January ',\n",
              "  'dateymd': '2020-01-31',\n",
              "  'totalconfirmed': '1',\n",
              "  'totaldeceased': '0',\n",
              "  'totalrecovered': '0'}]"
            ]
          },
          "metadata": {
            "tags": []
          },
          "execution_count": 5
        }
      ]
    },
    {
      "cell_type": "code",
      "metadata": {
        "id": "xFI1enuK5reA",
        "outputId": "efb65966-4397-46eb-ed98-232a27055617",
        "colab": {
          "base_uri": "https://localhost:8080/"
        }
      },
      "source": [
        "state_wise = json_data_count[\"statewise\"]\n",
        "state_wise[0:2]"
      ],
      "execution_count": 6,
      "outputs": [
        {
          "output_type": "execute_result",
          "data": {
            "text/plain": [
              "[{'active': '583571',\n",
              "  'confirmed': '8139081',\n",
              "  'deaths': '121699',\n",
              "  'deltaconfirmed': '2915',\n",
              "  'deltadeaths': '18',\n",
              "  'deltarecovered': '1486',\n",
              "  'lastupdatedtime': '31/10/2020 13:18:08',\n",
              "  'migratedother': '1414',\n",
              "  'recovered': '7432397',\n",
              "  'state': 'Total',\n",
              "  'statecode': 'TT',\n",
              "  'statenotes': ''},\n",
              " {'active': '125418',\n",
              "  'confirmed': '1672858',\n",
              "  'deaths': '43837',\n",
              "  'deltaconfirmed': '0',\n",
              "  'deltadeaths': '0',\n",
              "  'deltarecovered': '0',\n",
              "  'lastupdatedtime': '31/10/2020 00:06:10',\n",
              "  'migratedother': '553',\n",
              "  'recovered': '1503050',\n",
              "  'state': 'Maharashtra',\n",
              "  'statecode': 'MH',\n",
              "  'statenotes': \"[Sep 9] :239 cases have been removed from the hospitalized figures owing to the removal of duplicates and change of addresses as per the original residence,\\n[Aug 15] : MH bulletin has reduced 819 confirmed cases in Mumbai and 72 confirmed cases from 'Other States' from the tally\\n[Jun 16] : 1328 deceased cases have been retroactively added to MH bulletin.\\n[Jun 20] : 69 deceased cases have been reduced based on state bulletin.\"}]"
            ]
          },
          "metadata": {
            "tags": []
          },
          "execution_count": 6
        }
      ]
    },
    {
      "cell_type": "code",
      "metadata": {
        "id": "jtePwF4I5reL",
        "outputId": "fed9bde1-3e58-4549-f435-0706e0ef9f13",
        "colab": {
          "base_uri": "https://localhost:8080/"
        }
      },
      "source": [
        "tested = json_data_count[\"tested\"]\n",
        "tested[0:2]"
      ],
      "execution_count": 7,
      "outputs": [
        {
          "output_type": "execute_result",
          "data": {
            "text/plain": [
              "[{'dailyrtpcrsamplescollectedicmrapplication': '',\n",
              "  'individualstestedperconfirmedcase': '75.64',\n",
              "  'positivecasesfromsamplesreported': '',\n",
              "  'samplereportedtoday': '',\n",
              "  'source': 'Press_Release_ICMR_13March2020.pdf',\n",
              "  'source1': '',\n",
              "  'source3': '',\n",
              "  'testedasof': '13/03/2020',\n",
              "  'testpositivitylast7days': '',\n",
              "  'testpositivityrate': '1.20%',\n",
              "  'testsconductedbyprivatelabs': '',\n",
              "  'testsperconfirmedcase': '83.33',\n",
              "  'testspermillion': '5',\n",
              "  'totalindividualstested': '5900',\n",
              "  'totalpositivecases': '78',\n",
              "  'totalrtpcrsamplescollectedicmrapplication': '',\n",
              "  'totalsamplestested': '6500',\n",
              "  'updatetimestamp': '13/03/2020 00:00:00'},\n",
              " {'dailyrtpcrsamplescollectedicmrapplication': '',\n",
              "  'individualstestedperconfirmedcase': '81.57',\n",
              "  'positivecasesfromsamplesreported': '',\n",
              "  'samplereportedtoday': '',\n",
              "  'source': 'ICMR_website_update_18March_6PM_IST.pdf',\n",
              "  'source1': '',\n",
              "  'source3': '',\n",
              "  'testedasof': '18/03/2020',\n",
              "  'testpositivitylast7days': '',\n",
              "  'testpositivityrate': '1.14%',\n",
              "  'testsconductedbyprivatelabs': '',\n",
              "  'testsperconfirmedcase': '87.50',\n",
              "  'testspermillion': '10',\n",
              "  'totalindividualstested': '12235',\n",
              "  'totalpositivecases': '150',\n",
              "  'totalrtpcrsamplescollectedicmrapplication': '',\n",
              "  'totalsamplestested': '13125',\n",
              "  'updatetimestamp': '18/03/2020 18:00:00'}]"
            ]
          },
          "metadata": {
            "tags": []
          },
          "execution_count": 7
        }
      ]
    },
    {
      "cell_type": "markdown",
      "metadata": {
        "id": "V-guEozL5reS"
      },
      "source": [
        "**Different States in the list state_wise. Total refers to Nation wide**"
      ]
    },
    {
      "cell_type": "code",
      "metadata": {
        "id": "HLLkQfCJ5reT",
        "outputId": "44474267-af8a-4947-a9b3-00b5c3a049b2",
        "colab": {
          "base_uri": "https://localhost:8080/"
        }
      },
      "source": [
        "states = []\n",
        "for records in state_wise:\n",
        "    state = records['state']\n",
        "    states.append(state)\n",
        "    \n",
        "states    "
      ],
      "execution_count": 8,
      "outputs": [
        {
          "output_type": "execute_result",
          "data": {
            "text/plain": [
              "['Total',\n",
              " 'Maharashtra',\n",
              " 'Andhra Pradesh',\n",
              " 'Karnataka',\n",
              " 'Tamil Nadu',\n",
              " 'Uttar Pradesh',\n",
              " 'Delhi',\n",
              " 'Kerala',\n",
              " 'West Bengal',\n",
              " 'Odisha',\n",
              " 'Telangana',\n",
              " 'Bihar',\n",
              " 'Assam',\n",
              " 'Rajasthan',\n",
              " 'Gujarat',\n",
              " 'Madhya Pradesh',\n",
              " 'Chhattisgarh',\n",
              " 'Haryana',\n",
              " 'Punjab',\n",
              " 'Jharkhand',\n",
              " 'Jammu and Kashmir',\n",
              " 'Uttarakhand',\n",
              " 'Goa',\n",
              " 'Puducherry',\n",
              " 'Tripura',\n",
              " 'Himachal Pradesh',\n",
              " 'Manipur',\n",
              " 'Chandigarh',\n",
              " 'Arunachal Pradesh',\n",
              " 'Meghalaya',\n",
              " 'Nagaland',\n",
              " 'Ladakh',\n",
              " 'Andaman and Nicobar Islands',\n",
              " 'Sikkim',\n",
              " 'Dadra and Nagar Haveli and Daman and Diu',\n",
              " 'Mizoram',\n",
              " 'State Unassigned',\n",
              " 'Lakshadweep']"
            ]
          },
          "metadata": {
            "tags": []
          },
          "execution_count": 8
        }
      ]
    },
    {
      "cell_type": "markdown",
      "metadata": {
        "id": "6g7UBWWk5rea"
      },
      "source": [
        "**Latest Status of the Country**"
      ]
    },
    {
      "cell_type": "code",
      "metadata": {
        "id": "kDUbc86D5rec",
        "outputId": "2d25d6ae-ca7a-47bb-bfd4-8bc51eb18843",
        "colab": {
          "base_uri": "https://localhost:8080/"
        }
      },
      "source": [
        "\n",
        "total_cases = {}\n",
        "for records in state_wise:\n",
        "    if records['state'] == 'Total':\n",
        "        total_cases['Country'] = \"India\"\n",
        "        total_cases['Total Confirmed Cases'] = int(records['confirmed'])\n",
        "        total_cases['Total Active Cases'] = int(records['active']) \n",
        "        total_cases['Total Recovered Cases'] = total_cases['Total Confirmed Cases'] - total_cases['Total Active Cases']\n",
        "        total_cases['Total Deaths Reported'] = int(records['deaths'])\n",
        "        total_cases['Date'] = records['lastupdatedtime']\n",
        "        \n",
        "total_cases    "
      ],
      "execution_count": 9,
      "outputs": [
        {
          "output_type": "execute_result",
          "data": {
            "text/plain": [
              "{'Country': 'India',\n",
              " 'Date': '31/10/2020 13:18:08',\n",
              " 'Total Active Cases': 583571,\n",
              " 'Total Confirmed Cases': 8139081,\n",
              " 'Total Deaths Reported': 121699,\n",
              " 'Total Recovered Cases': 7555510}"
            ]
          },
          "metadata": {
            "tags": []
          },
          "execution_count": 9
        }
      ]
    },
    {
      "cell_type": "markdown",
      "metadata": {
        "id": "3TnAUcvJ5rek"
      },
      "source": [
        "**Today's Status [Based on the data published in the api ]**"
      ]
    },
    {
      "cell_type": "code",
      "metadata": {
        "id": "XVKEJxy-5rel",
        "outputId": "945fed65-2c7f-4977-a8bc-077f92f7d64e",
        "colab": {
          "base_uri": "https://localhost:8080/"
        }
      },
      "source": [
        "today_status = {}\n",
        "\n",
        "today_status[\"Date\"] = time_series[-1]['date']   \n",
        "today_status[\"Confirmed Cases\"] =  time_series[-1]['dailyconfirmed']\n",
        "today_status[\"Recovered Cases\"] =  time_series[-1]['dailyrecovered']\n",
        "today_status[\"Deceased Cases\"] =  time_series[-1]['dailydeceased']\n",
        "\n",
        "today_status"
      ],
      "execution_count": 10,
      "outputs": [
        {
          "output_type": "execute_result",
          "data": {
            "text/plain": [
              "{'Confirmed Cases': '48117',\n",
              " 'Date': '30 October ',\n",
              " 'Deceased Cases': '550',\n",
              " 'Recovered Cases': '59005'}"
            ]
          },
          "metadata": {
            "tags": []
          },
          "execution_count": 10
        }
      ]
    },
    {
      "cell_type": "markdown",
      "metadata": {
        "id": "uB6KewYo5res"
      },
      "source": [
        "**Number of Samples Tested till day**"
      ]
    },
    {
      "cell_type": "code",
      "metadata": {
        "id": "KKYSIxMj5ret",
        "outputId": "e1d5a5db-1790-4053-8e2d-4663419f6a0d",
        "colab": {
          "base_uri": "https://localhost:8080/",
          "height": 35
        }
      },
      "source": [
        "total_samples_tested = tested[-1]['totalsamplestested']\n",
        "total_samples_tested"
      ],
      "execution_count": 11,
      "outputs": [
        {
          "output_type": "execute_result",
          "data": {
            "application/vnd.google.colaboratory.intrinsic+json": {
              "type": "string"
            },
            "text/plain": [
              "'108796064'"
            ]
          },
          "metadata": {
            "tags": []
          },
          "execution_count": 11
        }
      ]
    },
    {
      "cell_type": "markdown",
      "metadata": {
        "id": "IBFqh2A45rez"
      },
      "source": [
        "**Moving Data According to Daywise count to a seperate dictionary**"
      ]
    },
    {
      "cell_type": "code",
      "metadata": {
        "id": "BxY04r6a5re1",
        "outputId": "0726f5f5-6769-4bf5-e2d6-4c5aa7927e74",
        "colab": {
          "base_uri": "https://localhost:8080/"
        }
      },
      "source": [
        "timeseries_plot_data = {}\n",
        "\n",
        "for records in time_series:\n",
        "    date = records['date']\n",
        "    dailyconfirmed = records['dailyconfirmed']\n",
        "    dailydeceased = records['dailydeceased']\n",
        "    dailyrecovered = records['dailyrecovered']\n",
        "\n",
        "    daily_status = {'Confirmed': dailyconfirmed, 'Deceased': dailydeceased, 'Recovered': dailyrecovered }\n",
        "    timeseries_plot_data[date] = daily_status \n",
        "   \n",
        "timeseries_plot_data"
      ],
      "execution_count": 12,
      "outputs": [
        {
          "output_type": "execute_result",
          "data": {
            "text/plain": [
              "{'01 April ': {'Confirmed': '424', 'Deceased': '6', 'Recovered': '19'},\n",
              " '01 August ': {'Confirmed': '55117', 'Deceased': '854', 'Recovered': '51368'},\n",
              " '01 February ': {'Confirmed': '0', 'Deceased': '0', 'Recovered': '0'},\n",
              " '01 July ': {'Confirmed': '19429', 'Deceased': '438', 'Recovered': '12064'},\n",
              " '01 June ': {'Confirmed': '7723', 'Deceased': '201', 'Recovered': '3882'},\n",
              " '01 March ': {'Confirmed': '0', 'Deceased': '0', 'Recovered': '0'},\n",
              " '01 May ': {'Confirmed': '2396', 'Deceased': '77', 'Recovered': '962'},\n",
              " '01 October ': {'Confirmed': '81784',\n",
              "  'Deceased': '1099',\n",
              "  'Recovered': '78731'},\n",
              " '01 September ': {'Confirmed': '78168',\n",
              "  'Deceased': '892',\n",
              "  'Recovered': '62145'},\n",
              " '02 April ': {'Confirmed': '486', 'Deceased': '16', 'Recovered': '22'},\n",
              " '02 August ': {'Confirmed': '52672', 'Deceased': '760', 'Recovered': '40355'},\n",
              " '02 February ': {'Confirmed': '1', 'Deceased': '0', 'Recovered': '0'},\n",
              " '02 July ': {'Confirmed': '21947', 'Deceased': '378', 'Recovered': '19999'},\n",
              " '02 June ': {'Confirmed': '8812', 'Deceased': '222', 'Recovered': '4531'},\n",
              " '02 March ': {'Confirmed': '2', 'Deceased': '0', 'Recovered': '0'},\n",
              " '02 May ': {'Confirmed': '2564', 'Deceased': '92', 'Recovered': '831'},\n",
              " '02 October ': {'Confirmed': '79883',\n",
              "  'Deceased': '1068',\n",
              "  'Recovered': '76339'},\n",
              " '02 September ': {'Confirmed': '82860',\n",
              "  'Deceased': '913',\n",
              "  'Recovered': '67874'},\n",
              " '03 April ': {'Confirmed': '560', 'Deceased': '14', 'Recovered': '39'},\n",
              " '03 August ': {'Confirmed': '50488', 'Deceased': '806', 'Recovered': '43070'},\n",
              " '03 February ': {'Confirmed': '1', 'Deceased': '0', 'Recovered': '0'},\n",
              " '03 July ': {'Confirmed': '22718', 'Deceased': '444', 'Recovered': '14417'},\n",
              " '03 June ': {'Confirmed': '9689', 'Deceased': '259', 'Recovered': '3789'},\n",
              " '03 March ': {'Confirmed': '1', 'Deceased': '0', 'Recovered': '0'},\n",
              " '03 May ': {'Confirmed': '2952', 'Deceased': '140', 'Recovered': '911'},\n",
              " '03 October ': {'Confirmed': '75479',\n",
              "  'Deceased': '937',\n",
              "  'Recovered': '81655'},\n",
              " '03 September ': {'Confirmed': '84156',\n",
              "  'Deceased': '979',\n",
              "  'Recovered': '67491'},\n",
              " '04 April ': {'Confirmed': '579', 'Deceased': '13', 'Recovered': '56'},\n",
              " '04 August ': {'Confirmed': '51282', 'Deceased': '849', 'Recovered': '51220'},\n",
              " '04 February ': {'Confirmed': '0', 'Deceased': '0', 'Recovered': '0'},\n",
              " '04 July ': {'Confirmed': '24018', 'Deceased': '611', 'Recovered': '14746'},\n",
              " '04 June ': {'Confirmed': '9847', 'Deceased': '274', 'Recovered': '4390'},\n",
              " '04 March ': {'Confirmed': '22', 'Deceased': '0', 'Recovered': '0'},\n",
              " '04 May ': {'Confirmed': '3656', 'Deceased': '103', 'Recovered': '1082'},\n",
              " '04 October ': {'Confirmed': '74770',\n",
              "  'Deceased': '903',\n",
              "  'Recovered': '76713'},\n",
              " '04 September ': {'Confirmed': '87115',\n",
              "  'Deceased': '950',\n",
              "  'Recovered': '69625'},\n",
              " '05 April ': {'Confirmed': '609', 'Deceased': '22', 'Recovered': '43'},\n",
              " '05 August ': {'Confirmed': '56626', 'Deceased': '919', 'Recovered': '45583'},\n",
              " '05 February ': {'Confirmed': '0', 'Deceased': '0', 'Recovered': '0'},\n",
              " '05 July ': {'Confirmed': '23942', 'Deceased': '421', 'Recovered': '15829'},\n",
              " '05 June ': {'Confirmed': '9472', 'Deceased': '286', 'Recovered': '4770'},\n",
              " '05 March ': {'Confirmed': '2', 'Deceased': '0', 'Recovered': '0'},\n",
              " '05 May ': {'Confirmed': '2971', 'Deceased': '128', 'Recovered': '1295'},\n",
              " '05 October ': {'Confirmed': '60130',\n",
              "  'Deceased': '886',\n",
              "  'Recovered': '75855'},\n",
              " '05 September ': {'Confirmed': '90600',\n",
              "  'Deceased': '916',\n",
              "  'Recovered': '73161'},\n",
              " '06 April ': {'Confirmed': '484', 'Deceased': '16', 'Recovered': '65'},\n",
              " '06 August ': {'Confirmed': '62170', 'Deceased': '899', 'Recovered': '50141'},\n",
              " '06 February ': {'Confirmed': '0', 'Deceased': '0', 'Recovered': '0'},\n",
              " '06 July ': {'Confirmed': '22500', 'Deceased': '473', 'Recovered': '15315'},\n",
              " '06 June ': {'Confirmed': '10408', 'Deceased': '297', 'Recovered': '5433'},\n",
              " '06 March ': {'Confirmed': '1', 'Deceased': '0', 'Recovered': '0'},\n",
              " '06 May ': {'Confirmed': '3602', 'Deceased': '91', 'Recovered': '1161'},\n",
              " '06 October ': {'Confirmed': '71869',\n",
              "  'Deceased': '990',\n",
              "  'Recovered': '81945'},\n",
              " '06 September ': {'Confirmed': '91725',\n",
              "  'Deceased': '1005',\n",
              "  'Recovered': '69630'},\n",
              " '07 April ': {'Confirmed': '573', 'Deceased': '27', 'Recovered': '75'},\n",
              " '07 August ': {'Confirmed': '61455', 'Deceased': '936', 'Recovered': '50387'},\n",
              " '07 February ': {'Confirmed': '0', 'Deceased': '0', 'Recovered': '0'},\n",
              " '07 July ': {'Confirmed': '23147', 'Deceased': '479', 'Recovered': '16836'},\n",
              " '07 June ': {'Confirmed': '10882', 'Deceased': '261', 'Recovered': '5191'},\n",
              " '07 March ': {'Confirmed': '3', 'Deceased': '0', 'Recovered': '0'},\n",
              " '07 May ': {'Confirmed': '3344', 'Deceased': '104', 'Recovered': '1475'},\n",
              " '07 October ': {'Confirmed': '78809',\n",
              "  'Deceased': '963',\n",
              "  'Recovered': '83209'},\n",
              " '07 September ': {'Confirmed': '75015',\n",
              "  'Deceased': '1129',\n",
              "  'Recovered': '74116'},\n",
              " '08 April ': {'Confirmed': '565', 'Deceased': '20', 'Recovered': '96'},\n",
              " '08 August ': {'Confirmed': '65156', 'Deceased': '875', 'Recovered': '52135'},\n",
              " '08 February ': {'Confirmed': '0', 'Deceased': '0', 'Recovered': '0'},\n",
              " '08 July ': {'Confirmed': '25561', 'Deceased': '492', 'Recovered': '19508'},\n",
              " '08 June ': {'Confirmed': '8536', 'Deceased': '271', 'Recovered': '5171'},\n",
              " '08 March ': {'Confirmed': '5', 'Deceased': '0', 'Recovered': '0'},\n",
              " '08 May ': {'Confirmed': '3339', 'Deceased': '97', 'Recovered': '1111'},\n",
              " '08 October ': {'Confirmed': '70797',\n",
              "  'Deceased': '967',\n",
              "  'Recovered': '78745'},\n",
              " '08 September ': {'Confirmed': '89855',\n",
              "  'Deceased': '1107',\n",
              "  'Recovered': '74608'},\n",
              " '09 April ': {'Confirmed': '813', 'Deceased': '46', 'Recovered': '70'},\n",
              " '09 August ': {'Confirmed': '62117',\n",
              "  'Deceased': '1013',\n",
              "  'Recovered': '54474'},\n",
              " '09 February ': {'Confirmed': '0', 'Deceased': '0', 'Recovered': '0'},\n",
              " '09 July ': {'Confirmed': '25790', 'Deceased': '479', 'Recovered': '19408'},\n",
              " '09 June ': {'Confirmed': '9981', 'Deceased': '272', 'Recovered': '5634'},\n",
              " '09 March ': {'Confirmed': '9', 'Deceased': '0', 'Recovered': '0'},\n",
              " '09 May ': {'Confirmed': '3175', 'Deceased': '115', 'Recovered': '1414'},\n",
              " '09 October ': {'Confirmed': '73305',\n",
              "  'Deceased': '929',\n",
              "  'Recovered': '82628'},\n",
              " '09 September ': {'Confirmed': '95536',\n",
              "  'Deceased': '1168',\n",
              "  'Recovered': '73062'},\n",
              " '10 April ': {'Confirmed': '871', 'Deceased': '22', 'Recovered': '151'},\n",
              " '10 August ': {'Confirmed': '53016', 'Deceased': '887', 'Recovered': '47362'},\n",
              " '10 February ': {'Confirmed': '0', 'Deceased': '0', 'Recovered': '0'},\n",
              " '10 July ': {'Confirmed': '27762', 'Deceased': '520', 'Recovered': '20289'},\n",
              " '10 June ': {'Confirmed': '11156', 'Deceased': '358', 'Recovered': '6275'},\n",
              " '10 March ': {'Confirmed': '15', 'Deceased': '0', 'Recovered': '1'},\n",
              " '10 May ': {'Confirmed': '4311', 'Deceased': '112', 'Recovered': '1669'},\n",
              " '10 October ': {'Confirmed': '74418',\n",
              "  'Deceased': '921',\n",
              "  'Recovered': '89024'},\n",
              " '10 September ': {'Confirmed': '96762',\n",
              "  'Deceased': '1213',\n",
              "  'Recovered': '70904'},\n",
              " '11 April ': {'Confirmed': '854', 'Deceased': '41', 'Recovered': '186'},\n",
              " '11 August ': {'Confirmed': '61252', 'Deceased': '835', 'Recovered': '56461'},\n",
              " '11 February ': {'Confirmed': '0', 'Deceased': '0', 'Recovered': '0'},\n",
              " '11 July ': {'Confirmed': '27757', 'Deceased': '543', 'Recovered': '19981'},\n",
              " '11 June ': {'Confirmed': '11135', 'Deceased': '394', 'Recovered': '6044'},\n",
              " '11 March ': {'Confirmed': '8', 'Deceased': '0', 'Recovered': '0'},\n",
              " '11 May ': {'Confirmed': '3592', 'Deceased': '81', 'Recovered': '1579'},\n",
              " '11 October ': {'Confirmed': '67789',\n",
              "  'Deceased': '813',\n",
              "  'Recovered': '71565'},\n",
              " '11 September ': {'Confirmed': '97655',\n",
              "  'Deceased': '1202',\n",
              "  'Recovered': '81456'},\n",
              " '12 April ': {'Confirmed': '758', 'Deceased': '42', 'Recovered': '114'},\n",
              " '12 August ': {'Confirmed': '67066', 'Deceased': '950', 'Recovered': '57759'},\n",
              " '12 February ': {'Confirmed': '0', 'Deceased': '0', 'Recovered': '0'},\n",
              " '12 July ': {'Confirmed': '29106', 'Deceased': '500', 'Recovered': '18198'},\n",
              " '12 June ': {'Confirmed': '11306', 'Deceased': '388', 'Recovered': '7263'},\n",
              " '12 March ': {'Confirmed': '10', 'Deceased': '1', 'Recovered': '0'},\n",
              " '12 May ': {'Confirmed': '3562', 'Deceased': '120', 'Recovered': '1905'},\n",
              " '12 October ': {'Confirmed': '54262',\n",
              "  'Deceased': '710',\n",
              "  'Recovered': '78365'},\n",
              " '12 September ': {'Confirmed': '94414',\n",
              "  'Deceased': '1111',\n",
              "  'Recovered': '77862'},\n",
              " '13 April ': {'Confirmed': '1243', 'Deceased': '27', 'Recovered': '112'},\n",
              " '13 August ': {'Confirmed': '64141',\n",
              "  'Deceased': '1006',\n",
              "  'Recovered': '54776'},\n",
              " '13 February ': {'Confirmed': '0', 'Deceased': '0', 'Recovered': '1'},\n",
              " '13 July ': {'Confirmed': '28178', 'Deceased': '541', 'Recovered': '17683'},\n",
              " '13 June ': {'Confirmed': '12039', 'Deceased': '309', 'Recovered': '8092'},\n",
              " '13 March ': {'Confirmed': '10', 'Deceased': '0', 'Recovered': '6'},\n",
              " '13 May ': {'Confirmed': '3726', 'Deceased': '137', 'Recovered': '1963'},\n",
              " '13 October ': {'Confirmed': '63717',\n",
              "  'Deceased': '727',\n",
              "  'Recovered': '74079'},\n",
              " '13 September ': {'Confirmed': '93220',\n",
              "  'Deceased': '1140',\n",
              "  'Recovered': '77748'},\n",
              " '14 April ': {'Confirmed': '1031', 'Deceased': '37', 'Recovered': '167'},\n",
              " '14 August ': {'Confirmed': '65610', 'Deceased': '989', 'Recovered': '56920'},\n",
              " '14 February ': {'Confirmed': '0', 'Deceased': '0', 'Recovered': '0'},\n",
              " '14 July ': {'Confirmed': '29917', 'Deceased': '587', 'Recovered': '20977'},\n",
              " '14 June ': {'Confirmed': '11405', 'Deceased': '324', 'Recovered': '7358'},\n",
              " '14 March ': {'Confirmed': '11', 'Deceased': '1', 'Recovered': '0'},\n",
              " '14 May ': {'Confirmed': '3991', 'Deceased': '97', 'Recovered': '1594'},\n",
              " '14 October ': {'Confirmed': '67811',\n",
              "  'Deceased': '690',\n",
              "  'Recovered': '81582'},\n",
              " '14 September ': {'Confirmed': '81913',\n",
              "  'Deceased': '1054',\n",
              "  'Recovered': '79213'},\n",
              " '15 April ': {'Confirmed': '886', 'Deceased': '27', 'Recovered': '144'},\n",
              " '15 August ': {'Confirmed': '63986', 'Deceased': '952', 'Recovered': '53116'},\n",
              " '15 February ': {'Confirmed': '0', 'Deceased': '0', 'Recovered': '0'},\n",
              " '15 July ': {'Confirmed': '32607', 'Deceased': '614', 'Recovered': '20646'},\n",
              " '15 June ': {'Confirmed': '10032', 'Deceased': '396', 'Recovered': '10639'},\n",
              " '15 March ': {'Confirmed': '10', 'Deceased': '0', 'Recovered': '3'},\n",
              " '15 May ': {'Confirmed': '3808', 'Deceased': '104', 'Recovered': '2234'},\n",
              " '15 October ': {'Confirmed': '63441',\n",
              "  'Deceased': '882',\n",
              "  'Recovered': '70792'},\n",
              " '15 September ': {'Confirmed': '91098',\n",
              "  'Deceased': '1281',\n",
              "  'Recovered': '82849'},\n",
              " '16 April ': {'Confirmed': '1061', 'Deceased': '26', 'Recovered': '258'},\n",
              " '16 August ': {'Confirmed': '58096', 'Deceased': '952', 'Recovered': '57404'},\n",
              " '16 February ': {'Confirmed': '0', 'Deceased': '0', 'Recovered': '1'},\n",
              " '16 July ': {'Confirmed': '35468', 'Deceased': '680', 'Recovered': '22867'},\n",
              " '16 June ': {'Confirmed': '11086', 'Deceased': '2004', 'Recovered': '7226'},\n",
              " '16 March ': {'Confirmed': '14', 'Deceased': '0', 'Recovered': '1'},\n",
              " '16 May ': {'Confirmed': '4794', 'Deceased': '120', 'Recovered': '4012'},\n",
              " '16 October ': {'Confirmed': '62304',\n",
              "  'Deceased': '840',\n",
              "  'Recovered': '70568'},\n",
              " '16 September ': {'Confirmed': '97860',\n",
              "  'Deceased': '1140',\n",
              "  'Recovered': '82924'},\n",
              " '17 April ': {'Confirmed': '922', 'Deceased': '38', 'Recovered': '273'},\n",
              " '17 August ': {'Confirmed': '54298', 'Deceased': '880', 'Recovered': '58172'},\n",
              " '17 February ': {'Confirmed': '0', 'Deceased': '0', 'Recovered': '0'},\n",
              " '17 July ': {'Confirmed': '34820', 'Deceased': '676', 'Recovered': '17476'},\n",
              " '17 June ': {'Confirmed': '13108', 'Deceased': '341', 'Recovered': '6890'},\n",
              " '17 March ': {'Confirmed': '20', 'Deceased': '1', 'Recovered': '1'},\n",
              " '17 May ': {'Confirmed': '5049', 'Deceased': '152', 'Recovered': '2538'},\n",
              " '17 October ': {'Confirmed': '61893',\n",
              "  'Deceased': '1032',\n",
              "  'Recovered': '72583'},\n",
              " '17 September ': {'Confirmed': '96787',\n",
              "  'Deceased': '1175',\n",
              "  'Recovered': '87788'},\n",
              " '18 April ': {'Confirmed': '1371', 'Deceased': '35', 'Recovered': '426'},\n",
              " '18 August ': {'Confirmed': '65024',\n",
              "  'Deceased': '1099',\n",
              "  'Recovered': '60455'},\n",
              " '18 February ': {'Confirmed': '0', 'Deceased': '0', 'Recovered': '0'},\n",
              " '18 July ': {'Confirmed': '37411', 'Deceased': '543', 'Recovered': '23583'},\n",
              " '18 June ': {'Confirmed': '13829', 'Deceased': '343', 'Recovered': '10741'},\n",
              " '18 March ': {'Confirmed': '25', 'Deceased': '0', 'Recovered': '0'},\n",
              " '18 May ': {'Confirmed': '4628', 'Deceased': '131', 'Recovered': '2482'},\n",
              " '18 October ': {'Confirmed': '56519',\n",
              "  'Deceased': '582',\n",
              "  'Recovered': '66418'},\n",
              " '18 September ': {'Confirmed': '92973',\n",
              "  'Deceased': '1221',\n",
              "  'Recovered': '95515'},\n",
              " '19 April ': {'Confirmed': '1580', 'Deceased': '38', 'Recovered': '388'},\n",
              " '19 August ': {'Confirmed': '69196', 'Deceased': '979', 'Recovered': '59365'},\n",
              " '19 February ': {'Confirmed': '0', 'Deceased': '0', 'Recovered': '0'},\n",
              " '19 July ': {'Confirmed': '40235', 'Deceased': '675', 'Recovered': '22730'},\n",
              " '19 June ': {'Confirmed': '14740', 'Deceased': '364', 'Recovered': '9029'},\n",
              " '19 March ': {'Confirmed': '27', 'Deceased': '1', 'Recovered': '5'},\n",
              " '19 May ': {'Confirmed': '6154', 'Deceased': '146', 'Recovered': '3032'},\n",
              " '19 October ': {'Confirmed': '45506',\n",
              "  'Deceased': '589',\n",
              "  'Recovered': '69800'},\n",
              " '19 September ': {'Confirmed': '92574',\n",
              "  'Deceased': '1149',\n",
              "  'Recovered': '94389'},\n",
              " '20 April ': {'Confirmed': '1239', 'Deceased': '33', 'Recovered': '419'},\n",
              " '20 August ': {'Confirmed': '68518', 'Deceased': '981', 'Recovered': '61873'},\n",
              " '20 February ': {'Confirmed': '0', 'Deceased': '0', 'Recovered': '1'},\n",
              " '20 July ': {'Confirmed': '36806', 'Deceased': '596', 'Recovered': '24303'},\n",
              " '20 June ': {'Confirmed': '15918', 'Deceased': '308', 'Recovered': '13974'},\n",
              " '20 March ': {'Confirmed': '58', 'Deceased': '0', 'Recovered': '3'},\n",
              " '20 May ': {'Confirmed': '5720', 'Deceased': '134', 'Recovered': '3113'},\n",
              " '20 October ': {'Confirmed': '54348',\n",
              "  'Deceased': '714',\n",
              "  'Recovered': '61828'},\n",
              " '20 September ': {'Confirmed': '87395',\n",
              "  'Deceased': '1135',\n",
              "  'Recovered': '92926'},\n",
              " '21 April ': {'Confirmed': '1537', 'Deceased': '53', 'Recovered': '703'},\n",
              " '21 August ': {'Confirmed': '69029', 'Deceased': '953', 'Recovered': '62858'},\n",
              " '21 February ': {'Confirmed': '0', 'Deceased': '0', 'Recovered': '0'},\n",
              " '21 July ': {'Confirmed': '39170', 'Deceased': '671', 'Recovered': '27589'},\n",
              " '21 June ': {'Confirmed': '15151', 'Deceased': '426', 'Recovered': '9075'},\n",
              " '21 March ': {'Confirmed': '78', 'Deceased': '0', 'Recovered': '0'},\n",
              " '21 May ': {'Confirmed': '6023', 'Deceased': '148', 'Recovered': '3131'},\n",
              " '21 October ': {'Confirmed': '56264',\n",
              "  'Deceased': '701',\n",
              "  'Recovered': '79561'},\n",
              " '21 September ': {'Confirmed': '74493',\n",
              "  'Deceased': '1056',\n",
              "  'Recovered': '102070'},\n",
              " '22 April ': {'Confirmed': '1292', 'Deceased': '36', 'Recovered': '394'},\n",
              " '22 August ': {'Confirmed': '70067', 'Deceased': '918', 'Recovered': '59101'},\n",
              " '22 February ': {'Confirmed': '0', 'Deceased': '0', 'Recovered': '0'},\n",
              " '22 July ': {'Confirmed': '45601', 'Deceased': '1130', 'Recovered': '31875'},\n",
              " '22 June ': {'Confirmed': '13560', 'Deceased': '312', 'Recovered': '10879'},\n",
              " '22 March ': {'Confirmed': '69', 'Deceased': '3', 'Recovered': '0'},\n",
              " '22 May ': {'Confirmed': '6536', 'Deceased': '142', 'Recovered': '3280'},\n",
              " '22 October ': {'Confirmed': '54371',\n",
              "  'Deceased': '686',\n",
              "  'Recovered': '74569'},\n",
              " '22 September ': {'Confirmed': '83362',\n",
              "  'Deceased': '1085',\n",
              "  'Recovered': '89657'},\n",
              " '23 April ': {'Confirmed': '1667', 'Deceased': '40', 'Recovered': '642'},\n",
              " '23 August ': {'Confirmed': '61749', 'Deceased': '846', 'Recovered': '56896'},\n",
              " '23 February ': {'Confirmed': '0', 'Deceased': '0', 'Recovered': '0'},\n",
              " '23 July ': {'Confirmed': '48443', 'Deceased': '755', 'Recovered': '33326'},\n",
              " '23 June ': {'Confirmed': '15656', 'Deceased': '468', 'Recovered': '10462'},\n",
              " '23 March ': {'Confirmed': '94', 'Deceased': '2', 'Recovered': '2'},\n",
              " '23 May ': {'Confirmed': '6667', 'Deceased': '142', 'Recovered': '2576'},\n",
              " '23 October ': {'Confirmed': '53931',\n",
              "  'Deceased': '655',\n",
              "  'Recovered': '66994'},\n",
              " '23 September ': {'Confirmed': '86703',\n",
              "  'Deceased': '1123',\n",
              "  'Recovered': '87459'},\n",
              " '24 April ': {'Confirmed': '1408', 'Deceased': '59', 'Recovered': '484'},\n",
              " '24 August ': {'Confirmed': '59696', 'Deceased': '854', 'Recovered': '66305'},\n",
              " '24 February ': {'Confirmed': '0', 'Deceased': '0', 'Recovered': '0'},\n",
              " '24 July ': {'Confirmed': '48888', 'Deceased': '763', 'Recovered': '32514'},\n",
              " '24 June ': {'Confirmed': '16868', 'Deceased': '424', 'Recovered': '13089'},\n",
              " '24 March ': {'Confirmed': '74', 'Deceased': '1', 'Recovered': '15'},\n",
              " '24 May ': {'Confirmed': '7111', 'Deceased': '156', 'Recovered': '3285'},\n",
              " '24 October ': {'Confirmed': '50366',\n",
              "  'Deceased': '578',\n",
              "  'Recovered': '62270'},\n",
              " '24 September ': {'Confirmed': '85921',\n",
              "  'Deceased': '1144',\n",
              "  'Recovered': '81142'},\n",
              " '25 April ': {'Confirmed': '1835', 'Deceased': '44', 'Recovered': '442'},\n",
              " '25 August ': {'Confirmed': '66873',\n",
              "  'Deceased': '1066',\n",
              "  'Recovered': '64151'},\n",
              " '25 February ': {'Confirmed': '0', 'Deceased': '0', 'Recovered': '0'},\n",
              " '25 July ': {'Confirmed': '50072', 'Deceased': '703', 'Recovered': '37125'},\n",
              " '25 June ': {'Confirmed': '18205', 'Deceased': '401', 'Recovered': '13983'},\n",
              " '25 March ': {'Confirmed': '86', 'Deceased': '1', 'Recovered': '3'},\n",
              " '25 May ': {'Confirmed': '6414', 'Deceased': '150', 'Recovered': '3012'},\n",
              " '25 October ': {'Confirmed': '45922',\n",
              "  'Deceased': '483',\n",
              "  'Recovered': '59304'},\n",
              " '25 September ': {'Confirmed': '85717',\n",
              "  'Deceased': '1093',\n",
              "  'Recovered': '93331'},\n",
              " '26 April ': {'Confirmed': '1607', 'Deceased': '56', 'Recovered': '585'},\n",
              " '26 August ': {'Confirmed': '75995',\n",
              "  'Deceased': '1017',\n",
              "  'Recovered': '56191'},\n",
              " '26 February ': {'Confirmed': '0', 'Deceased': '0', 'Recovered': '0'},\n",
              " '26 July ': {'Confirmed': '48932', 'Deceased': '704', 'Recovered': '31512'},\n",
              " '26 June ': {'Confirmed': '18255', 'Deceased': '381', 'Recovered': '10246'},\n",
              " '26 March ': {'Confirmed': '73', 'Deceased': '5', 'Recovered': '7'},\n",
              " '26 May ': {'Confirmed': '5907', 'Deceased': '173', 'Recovered': '3585'},\n",
              " '26 October ': {'Confirmed': '36019',\n",
              "  'Deceased': '485',\n",
              "  'Recovered': '63734'},\n",
              " '26 September ': {'Confirmed': '88759',\n",
              "  'Deceased': '1124',\n",
              "  'Recovered': '92365'},\n",
              " '27 April ': {'Confirmed': '1568', 'Deceased': '58', 'Recovered': '580'},\n",
              " '27 August ': {'Confirmed': '76827',\n",
              "  'Deceased': '1066',\n",
              "  'Recovered': '59620'},\n",
              " '27 February ': {'Confirmed': '0', 'Deceased': '0', 'Recovered': '0'},\n",
              " '27 July ': {'Confirmed': '46484', 'Deceased': '642', 'Recovered': '34354'},\n",
              " '27 June ': {'Confirmed': '20142', 'Deceased': '414', 'Recovered': '14229'},\n",
              " '27 March ': {'Confirmed': '153', 'Deceased': '3', 'Recovered': '25'},\n",
              " '27 May ': {'Confirmed': '7246', 'Deceased': '188', 'Recovered': '3434'},\n",
              " '27 October ': {'Confirmed': '43036',\n",
              "  'Deceased': '511',\n",
              "  'Recovered': '58429'},\n",
              " '27 September ': {'Confirmed': '82770',\n",
              "  'Deceased': '1040',\n",
              "  'Recovered': '74691'},\n",
              " '28 April ': {'Confirmed': '1902', 'Deceased': '69', 'Recovered': '636'},\n",
              " '28 August ': {'Confirmed': '76657',\n",
              "  'Deceased': '1019',\n",
              "  'Recovered': '64475'},\n",
              " '28 February ': {'Confirmed': '0', 'Deceased': '0', 'Recovered': '0'},\n",
              " '28 July ': {'Confirmed': '49631', 'Deceased': '774', 'Recovered': '35683'},\n",
              " '28 June ': {'Confirmed': '19610', 'Deceased': '384', 'Recovered': '11631'},\n",
              " '28 March ': {'Confirmed': '136', 'Deceased': '5', 'Recovered': '10'},\n",
              " '28 May ': {'Confirmed': '7254', 'Deceased': '176', 'Recovered': '3171'},\n",
              " '28 October ': {'Confirmed': '50188',\n",
              "  'Deceased': '514',\n",
              "  'Recovered': '56594'},\n",
              " '28 September ': {'Confirmed': '69669',\n",
              "  'Deceased': '775',\n",
              "  'Recovered': '85198'},\n",
              " '29 April ': {'Confirmed': '1705', 'Deceased': '71', 'Recovered': '690'},\n",
              " '29 August ': {'Confirmed': '78479', 'Deceased': '943', 'Recovered': '64982'},\n",
              " '29 February ': {'Confirmed': '0', 'Deceased': '0', 'Recovered': '0'},\n",
              " '29 July ': {'Confirmed': '52479', 'Deceased': '775', 'Recovered': '32886'},\n",
              " '29 June ': {'Confirmed': '18339', 'Deceased': '417', 'Recovered': '13497'},\n",
              " '29 March ': {'Confirmed': '120', 'Deceased': '3', 'Recovered': '17'},\n",
              " '29 May ': {'Confirmed': '8138', 'Deceased': '269', 'Recovered': '11735'},\n",
              " '29 October ': {'Confirmed': '48765',\n",
              "  'Deceased': '562',\n",
              "  'Recovered': '57867'},\n",
              " '29 September ': {'Confirmed': '80500',\n",
              "  'Deceased': '1178',\n",
              "  'Recovered': '86150'},\n",
              " '30 April ': {'Confirmed': '1801', 'Deceased': '75', 'Recovered': '630'},\n",
              " '30 August ': {'Confirmed': '79461', 'Deceased': '960', 'Recovered': '60422'},\n",
              " '30 January ': {'Confirmed': '1', 'Deceased': '0', 'Recovered': '0'},\n",
              " '30 July ': {'Confirmed': '54968', 'Deceased': '784', 'Recovered': '37425'},\n",
              " '30 June ': {'Confirmed': '18256', 'Deceased': '506', 'Recovered': '12565'},\n",
              " '30 March ': {'Confirmed': '187', 'Deceased': '14', 'Recovered': '35'},\n",
              " '30 May ': {'Confirmed': '8364', 'Deceased': '205', 'Recovered': '4303'},\n",
              " '30 October ': {'Confirmed': '48117',\n",
              "  'Deceased': '550',\n",
              "  'Recovered': '59005'},\n",
              " '30 September ': {'Confirmed': '86748',\n",
              "  'Deceased': '1179',\n",
              "  'Recovered': '85274'},\n",
              " '31 August ': {'Confirmed': '68766', 'Deceased': '816', 'Recovered': '64435'},\n",
              " '31 January ': {'Confirmed': '0', 'Deceased': '0', 'Recovered': '0'},\n",
              " '31 July ': {'Confirmed': '57486', 'Deceased': '764', 'Recovered': '36554'},\n",
              " '31 March ': {'Confirmed': '309', 'Deceased': '6', 'Recovered': '13'},\n",
              " '31 May ': {'Confirmed': '8789', 'Deceased': '222', 'Recovered': '4928'}}"
            ]
          },
          "metadata": {
            "tags": []
          },
          "execution_count": 12
        }
      ]
    },
    {
      "cell_type": "markdown",
      "metadata": {
        "id": "OX8T41gl5re-"
      },
      "source": [
        "**Using Pandas Creating seperate Dataframes for Confirmed, Deceased and Recovered cases on a daily basis**"
      ]
    },
    {
      "cell_type": "code",
      "metadata": {
        "id": "_mU0SANQ5re_",
        "outputId": "faf566c1-eaff-4b2f-966b-ab16da82a840",
        "colab": {
          "base_uri": "https://localhost:8080/",
          "height": 202
        }
      },
      "source": [
        "import pandas as pd\n",
        "\n",
        "\n",
        "df = pd.concat({k: pd.Series(v) for k, v in timeseries_plot_data.items()}).reset_index()\n",
        "df.columns = ['Date','Cases','Count']\n",
        "\n",
        "df.head(5)"
      ],
      "execution_count": 13,
      "outputs": [
        {
          "output_type": "execute_result",
          "data": {
            "text/html": [
              "<div>\n",
              "<style scoped>\n",
              "    .dataframe tbody tr th:only-of-type {\n",
              "        vertical-align: middle;\n",
              "    }\n",
              "\n",
              "    .dataframe tbody tr th {\n",
              "        vertical-align: top;\n",
              "    }\n",
              "\n",
              "    .dataframe thead th {\n",
              "        text-align: right;\n",
              "    }\n",
              "</style>\n",
              "<table border=\"1\" class=\"dataframe\">\n",
              "  <thead>\n",
              "    <tr style=\"text-align: right;\">\n",
              "      <th></th>\n",
              "      <th>Date</th>\n",
              "      <th>Cases</th>\n",
              "      <th>Count</th>\n",
              "    </tr>\n",
              "  </thead>\n",
              "  <tbody>\n",
              "    <tr>\n",
              "      <th>0</th>\n",
              "      <td>30 January</td>\n",
              "      <td>Confirmed</td>\n",
              "      <td>1</td>\n",
              "    </tr>\n",
              "    <tr>\n",
              "      <th>1</th>\n",
              "      <td>30 January</td>\n",
              "      <td>Deceased</td>\n",
              "      <td>0</td>\n",
              "    </tr>\n",
              "    <tr>\n",
              "      <th>2</th>\n",
              "      <td>30 January</td>\n",
              "      <td>Recovered</td>\n",
              "      <td>0</td>\n",
              "    </tr>\n",
              "    <tr>\n",
              "      <th>3</th>\n",
              "      <td>31 January</td>\n",
              "      <td>Confirmed</td>\n",
              "      <td>0</td>\n",
              "    </tr>\n",
              "    <tr>\n",
              "      <th>4</th>\n",
              "      <td>31 January</td>\n",
              "      <td>Deceased</td>\n",
              "      <td>0</td>\n",
              "    </tr>\n",
              "  </tbody>\n",
              "</table>\n",
              "</div>"
            ],
            "text/plain": [
              "          Date      Cases Count\n",
              "0  30 January   Confirmed     1\n",
              "1  30 January    Deceased     0\n",
              "2  30 January   Recovered     0\n",
              "3  31 January   Confirmed     0\n",
              "4  31 January    Deceased     0"
            ]
          },
          "metadata": {
            "tags": []
          },
          "execution_count": 13
        }
      ]
    },
    {
      "cell_type": "code",
      "metadata": {
        "id": "lY1T6pUb5rfG",
        "outputId": "2b2824d7-4332-48c9-b6c9-31b3e345afd6",
        "colab": {
          "base_uri": "https://localhost:8080/",
          "height": 202
        }
      },
      "source": [
        "df_confirmed_cases = df[df['Cases'] == 'Confirmed']\n",
        "df_confirmed_cases.head(5)\n"
      ],
      "execution_count": 14,
      "outputs": [
        {
          "output_type": "execute_result",
          "data": {
            "text/html": [
              "<div>\n",
              "<style scoped>\n",
              "    .dataframe tbody tr th:only-of-type {\n",
              "        vertical-align: middle;\n",
              "    }\n",
              "\n",
              "    .dataframe tbody tr th {\n",
              "        vertical-align: top;\n",
              "    }\n",
              "\n",
              "    .dataframe thead th {\n",
              "        text-align: right;\n",
              "    }\n",
              "</style>\n",
              "<table border=\"1\" class=\"dataframe\">\n",
              "  <thead>\n",
              "    <tr style=\"text-align: right;\">\n",
              "      <th></th>\n",
              "      <th>Date</th>\n",
              "      <th>Cases</th>\n",
              "      <th>Count</th>\n",
              "    </tr>\n",
              "  </thead>\n",
              "  <tbody>\n",
              "    <tr>\n",
              "      <th>0</th>\n",
              "      <td>30 January</td>\n",
              "      <td>Confirmed</td>\n",
              "      <td>1</td>\n",
              "    </tr>\n",
              "    <tr>\n",
              "      <th>3</th>\n",
              "      <td>31 January</td>\n",
              "      <td>Confirmed</td>\n",
              "      <td>0</td>\n",
              "    </tr>\n",
              "    <tr>\n",
              "      <th>6</th>\n",
              "      <td>01 February</td>\n",
              "      <td>Confirmed</td>\n",
              "      <td>0</td>\n",
              "    </tr>\n",
              "    <tr>\n",
              "      <th>9</th>\n",
              "      <td>02 February</td>\n",
              "      <td>Confirmed</td>\n",
              "      <td>1</td>\n",
              "    </tr>\n",
              "    <tr>\n",
              "      <th>12</th>\n",
              "      <td>03 February</td>\n",
              "      <td>Confirmed</td>\n",
              "      <td>1</td>\n",
              "    </tr>\n",
              "  </tbody>\n",
              "</table>\n",
              "</div>"
            ],
            "text/plain": [
              "            Date      Cases Count\n",
              "0    30 January   Confirmed     1\n",
              "3    31 January   Confirmed     0\n",
              "6   01 February   Confirmed     0\n",
              "9   02 February   Confirmed     1\n",
              "12  03 February   Confirmed     1"
            ]
          },
          "metadata": {
            "tags": []
          },
          "execution_count": 14
        }
      ]
    },
    {
      "cell_type": "code",
      "metadata": {
        "id": "3PjDQFUj5rfP",
        "outputId": "59f3b9ee-d4e3-4e14-9ab9-576199ff55b4",
        "colab": {
          "base_uri": "https://localhost:8080/",
          "height": 202
        }
      },
      "source": [
        "df_deceased_cases = df[df['Cases'] == 'Deceased']\n",
        "df_deceased_cases.head(5)\n"
      ],
      "execution_count": 15,
      "outputs": [
        {
          "output_type": "execute_result",
          "data": {
            "text/html": [
              "<div>\n",
              "<style scoped>\n",
              "    .dataframe tbody tr th:only-of-type {\n",
              "        vertical-align: middle;\n",
              "    }\n",
              "\n",
              "    .dataframe tbody tr th {\n",
              "        vertical-align: top;\n",
              "    }\n",
              "\n",
              "    .dataframe thead th {\n",
              "        text-align: right;\n",
              "    }\n",
              "</style>\n",
              "<table border=\"1\" class=\"dataframe\">\n",
              "  <thead>\n",
              "    <tr style=\"text-align: right;\">\n",
              "      <th></th>\n",
              "      <th>Date</th>\n",
              "      <th>Cases</th>\n",
              "      <th>Count</th>\n",
              "    </tr>\n",
              "  </thead>\n",
              "  <tbody>\n",
              "    <tr>\n",
              "      <th>1</th>\n",
              "      <td>30 January</td>\n",
              "      <td>Deceased</td>\n",
              "      <td>0</td>\n",
              "    </tr>\n",
              "    <tr>\n",
              "      <th>4</th>\n",
              "      <td>31 January</td>\n",
              "      <td>Deceased</td>\n",
              "      <td>0</td>\n",
              "    </tr>\n",
              "    <tr>\n",
              "      <th>7</th>\n",
              "      <td>01 February</td>\n",
              "      <td>Deceased</td>\n",
              "      <td>0</td>\n",
              "    </tr>\n",
              "    <tr>\n",
              "      <th>10</th>\n",
              "      <td>02 February</td>\n",
              "      <td>Deceased</td>\n",
              "      <td>0</td>\n",
              "    </tr>\n",
              "    <tr>\n",
              "      <th>13</th>\n",
              "      <td>03 February</td>\n",
              "      <td>Deceased</td>\n",
              "      <td>0</td>\n",
              "    </tr>\n",
              "  </tbody>\n",
              "</table>\n",
              "</div>"
            ],
            "text/plain": [
              "            Date     Cases Count\n",
              "1    30 January   Deceased     0\n",
              "4    31 January   Deceased     0\n",
              "7   01 February   Deceased     0\n",
              "10  02 February   Deceased     0\n",
              "13  03 February   Deceased     0"
            ]
          },
          "metadata": {
            "tags": []
          },
          "execution_count": 15
        }
      ]
    },
    {
      "cell_type": "code",
      "metadata": {
        "id": "hdcsPTpo5rfX",
        "outputId": "4734585f-0574-4beb-ef17-b2ca8b7f8b5c",
        "colab": {
          "base_uri": "https://localhost:8080/",
          "height": 202
        }
      },
      "source": [
        "df_recovered_cases = df[df['Cases'] == 'Recovered']\n",
        "df_recovered_cases.head(5)\n"
      ],
      "execution_count": 16,
      "outputs": [
        {
          "output_type": "execute_result",
          "data": {
            "text/html": [
              "<div>\n",
              "<style scoped>\n",
              "    .dataframe tbody tr th:only-of-type {\n",
              "        vertical-align: middle;\n",
              "    }\n",
              "\n",
              "    .dataframe tbody tr th {\n",
              "        vertical-align: top;\n",
              "    }\n",
              "\n",
              "    .dataframe thead th {\n",
              "        text-align: right;\n",
              "    }\n",
              "</style>\n",
              "<table border=\"1\" class=\"dataframe\">\n",
              "  <thead>\n",
              "    <tr style=\"text-align: right;\">\n",
              "      <th></th>\n",
              "      <th>Date</th>\n",
              "      <th>Cases</th>\n",
              "      <th>Count</th>\n",
              "    </tr>\n",
              "  </thead>\n",
              "  <tbody>\n",
              "    <tr>\n",
              "      <th>2</th>\n",
              "      <td>30 January</td>\n",
              "      <td>Recovered</td>\n",
              "      <td>0</td>\n",
              "    </tr>\n",
              "    <tr>\n",
              "      <th>5</th>\n",
              "      <td>31 January</td>\n",
              "      <td>Recovered</td>\n",
              "      <td>0</td>\n",
              "    </tr>\n",
              "    <tr>\n",
              "      <th>8</th>\n",
              "      <td>01 February</td>\n",
              "      <td>Recovered</td>\n",
              "      <td>0</td>\n",
              "    </tr>\n",
              "    <tr>\n",
              "      <th>11</th>\n",
              "      <td>02 February</td>\n",
              "      <td>Recovered</td>\n",
              "      <td>0</td>\n",
              "    </tr>\n",
              "    <tr>\n",
              "      <th>14</th>\n",
              "      <td>03 February</td>\n",
              "      <td>Recovered</td>\n",
              "      <td>0</td>\n",
              "    </tr>\n",
              "  </tbody>\n",
              "</table>\n",
              "</div>"
            ],
            "text/plain": [
              "            Date      Cases Count\n",
              "2    30 January   Recovered     0\n",
              "5    31 January   Recovered     0\n",
              "8   01 February   Recovered     0\n",
              "11  02 February   Recovered     0\n",
              "14  03 February   Recovered     0"
            ]
          },
          "metadata": {
            "tags": []
          },
          "execution_count": 16
        }
      ]
    },
    {
      "cell_type": "markdown",
      "metadata": {
        "id": "KZVFvp0b5rfj"
      },
      "source": [
        "**Using Plotly to plot the daily confirmed cases according to dates based on real time data**"
      ]
    },
    {
      "cell_type": "code",
      "metadata": {
        "id": "75E7qMHp5rfk",
        "outputId": "cadb3439-f39e-4988-f874-c8fc3b1d770f",
        "colab": {
          "base_uri": "https://localhost:8080/",
          "height": 542
        }
      },
      "source": [
        "import plotly.express as px\n",
        "import plotly.graph_objs as go\n",
        "from plotly.offline import download_plotlyjs,init_notebook_mode,plot\n",
        "\n",
        "fig = px.line(df_confirmed_cases, x='Date', y='Count')\n",
        "fig.update_layout(title_text=\"Daily Confirmed Cases of COVID-19 in India\")\n",
        "fig.show()"
      ],
      "execution_count": 17,
      "outputs": [
        {
          "output_type": "display_data",
          "data": {
            "text/html": [
              "<html>\n",
              "<head><meta charset=\"utf-8\" /></head>\n",
              "<body>\n",
              "    <div>\n",
              "            <script src=\"https://cdnjs.cloudflare.com/ajax/libs/mathjax/2.7.5/MathJax.js?config=TeX-AMS-MML_SVG\"></script><script type=\"text/javascript\">if (window.MathJax) {MathJax.Hub.Config({SVG: {font: \"STIX-Web\"}});}</script>\n",
              "                <script type=\"text/javascript\">window.PlotlyConfig = {MathJaxConfig: 'local'};</script>\n",
              "        <script src=\"https://cdn.plot.ly/plotly-latest.min.js\"></script>    \n",
              "            <div id=\"557f2c60-da87-41bf-ae1f-794a8b38e661\" class=\"plotly-graph-div\" style=\"height:525px; width:100%;\"></div>\n",
              "            <script type=\"text/javascript\">\n",
              "                \n",
              "                    window.PLOTLYENV=window.PLOTLYENV || {};\n",
              "                    \n",
              "                if (document.getElementById(\"557f2c60-da87-41bf-ae1f-794a8b38e661\")) {\n",
              "                    Plotly.newPlot(\n",
              "                        '557f2c60-da87-41bf-ae1f-794a8b38e661',\n",
              "                        [{\"hoverlabel\": {\"namelength\": 0}, \"hovertemplate\": \"Date=%{x}<br>Count=%{y}\", \"legendgroup\": \"\", \"line\": {\"color\": \"#636efa\", \"dash\": \"solid\"}, \"mode\": \"lines\", \"name\": \"\", \"showlegend\": false, \"type\": \"scatter\", \"x\": [\"30 January \", \"31 January \", \"01 February \", \"02 February \", \"03 February \", \"04 February \", \"05 February \", \"06 February \", \"07 February \", \"08 February \", \"09 February \", \"10 February \", \"11 February \", \"12 February \", \"13 February \", \"14 February \", \"15 February \", \"16 February \", \"17 February \", \"18 February \", \"19 February \", \"20 February \", \"21 February \", \"22 February \", \"23 February \", \"24 February \", \"25 February \", \"26 February \", \"27 February \", \"28 February \", \"29 February \", \"01 March \", \"02 March \", \"03 March \", \"04 March \", \"05 March \", \"06 March \", \"07 March \", \"08 March \", \"09 March \", \"10 March \", \"11 March \", \"12 March \", \"13 March \", \"14 March \", \"15 March \", \"16 March \", \"17 March \", \"18 March \", \"19 March \", \"20 March \", \"21 March \", \"22 March \", \"23 March \", \"24 March \", \"25 March \", \"26 March \", \"27 March \", \"28 March \", \"29 March \", \"30 March \", \"31 March \", \"01 April \", \"02 April \", \"03 April \", \"04 April \", \"05 April \", \"06 April \", \"07 April \", \"08 April \", \"09 April \", \"10 April \", \"11 April \", \"12 April \", \"13 April \", \"14 April \", \"15 April \", \"16 April \", \"17 April \", \"18 April \", \"19 April \", \"20 April \", \"21 April \", \"22 April \", \"23 April \", \"24 April \", \"25 April \", \"26 April \", \"27 April \", \"28 April \", \"29 April \", \"30 April \", \"01 May \", \"02 May \", \"03 May \", \"04 May \", \"05 May \", \"06 May \", \"07 May \", \"08 May \", \"09 May \", \"10 May \", \"11 May \", \"12 May \", \"13 May \", \"14 May \", \"15 May \", \"16 May \", \"17 May \", \"18 May \", \"19 May \", \"20 May \", \"21 May \", \"22 May \", \"23 May \", \"24 May \", \"25 May \", \"26 May \", \"27 May \", \"28 May \", \"29 May \", \"30 May \", \"31 May \", \"01 June \", \"02 June \", \"03 June \", \"04 June \", \"05 June \", \"06 June \", \"07 June \", \"08 June \", \"09 June \", \"10 June \", \"11 June \", \"12 June \", \"13 June \", \"14 June \", \"15 June \", \"16 June \", \"17 June \", \"18 June \", \"19 June \", \"20 June \", \"21 June \", \"22 June \", \"23 June \", \"24 June \", \"25 June \", \"26 June \", \"27 June \", \"28 June \", \"29 June \", \"30 June \", \"01 July \", \"02 July \", \"03 July \", \"04 July \", \"05 July \", \"06 July \", \"07 July \", \"08 July \", \"09 July \", \"10 July \", \"11 July \", \"12 July \", \"13 July \", \"14 July \", \"15 July \", \"16 July \", \"17 July \", \"18 July \", \"19 July \", \"20 July \", \"21 July \", \"22 July \", \"23 July \", \"24 July \", \"25 July \", \"26 July \", \"27 July \", \"28 July \", \"29 July \", \"30 July \", \"31 July \", \"01 August \", \"02 August \", \"03 August \", \"04 August \", \"05 August \", \"06 August \", \"07 August \", \"08 August \", \"09 August \", \"10 August \", \"11 August \", \"12 August \", \"13 August \", \"14 August \", \"15 August \", \"16 August \", \"17 August \", \"18 August \", \"19 August \", \"20 August \", \"21 August \", \"22 August \", \"23 August \", \"24 August \", \"25 August \", \"26 August \", \"27 August \", \"28 August \", \"29 August \", \"30 August \", \"31 August \", \"01 September \", \"02 September \", \"03 September \", \"04 September \", \"05 September \", \"06 September \", \"07 September \", \"08 September \", \"09 September \", \"10 September \", \"11 September \", \"12 September \", \"13 September \", \"14 September \", \"15 September \", \"16 September \", \"17 September \", \"18 September \", \"19 September \", \"20 September \", \"21 September \", \"22 September \", \"23 September \", \"24 September \", \"25 September \", \"26 September \", \"27 September \", \"28 September \", \"29 September \", \"30 September \", \"01 October \", \"02 October \", \"03 October \", \"04 October \", \"05 October \", \"06 October \", \"07 October \", \"08 October \", \"09 October \", \"10 October \", \"11 October \", \"12 October \", \"13 October \", \"14 October \", \"15 October \", \"16 October \", \"17 October \", \"18 October \", \"19 October \", \"20 October \", \"21 October \", \"22 October \", \"23 October \", \"24 October \", \"25 October \", \"26 October \", \"27 October \", \"28 October \", \"29 October \", \"30 October \"], \"xaxis\": \"x\", \"y\": [\"1\", \"0\", \"0\", \"1\", \"1\", \"0\", \"0\", \"0\", \"0\", \"0\", \"0\", \"0\", \"0\", \"0\", \"0\", \"0\", \"0\", \"0\", \"0\", \"0\", \"0\", \"0\", \"0\", \"0\", \"0\", \"0\", \"0\", \"0\", \"0\", \"0\", \"0\", \"0\", \"2\", \"1\", \"22\", \"2\", \"1\", \"3\", \"5\", \"9\", \"15\", \"8\", \"10\", \"10\", \"11\", \"10\", \"14\", \"20\", \"25\", \"27\", \"58\", \"78\", \"69\", \"94\", \"74\", \"86\", \"73\", \"153\", \"136\", \"120\", \"187\", \"309\", \"424\", \"486\", \"560\", \"579\", \"609\", \"484\", \"573\", \"565\", \"813\", \"871\", \"854\", \"758\", \"1243\", \"1031\", \"886\", \"1061\", \"922\", \"1371\", \"1580\", \"1239\", \"1537\", \"1292\", \"1667\", \"1408\", \"1835\", \"1607\", \"1568\", \"1902\", \"1705\", \"1801\", \"2396\", \"2564\", \"2952\", \"3656\", \"2971\", \"3602\", \"3344\", \"3339\", \"3175\", \"4311\", \"3592\", \"3562\", \"3726\", \"3991\", \"3808\", \"4794\", \"5049\", \"4628\", \"6154\", \"5720\", \"6023\", \"6536\", \"6667\", \"7111\", \"6414\", \"5907\", \"7246\", \"7254\", \"8138\", \"8364\", \"8789\", \"7723\", \"8812\", \"9689\", \"9847\", \"9472\", \"10408\", \"10882\", \"8536\", \"9981\", \"11156\", \"11135\", \"11306\", \"12039\", \"11405\", \"10032\", \"11086\", \"13108\", \"13829\", \"14740\", \"15918\", \"15151\", \"13560\", \"15656\", \"16868\", \"18205\", \"18255\", \"20142\", \"19610\", \"18339\", \"18256\", \"19429\", \"21947\", \"22718\", \"24018\", \"23942\", \"22500\", \"23147\", \"25561\", \"25790\", \"27762\", \"27757\", \"29106\", \"28178\", \"29917\", \"32607\", \"35468\", \"34820\", \"37411\", \"40235\", \"36806\", \"39170\", \"45601\", \"48443\", \"48888\", \"50072\", \"48932\", \"46484\", \"49631\", \"52479\", \"54968\", \"57486\", \"55117\", \"52672\", \"50488\", \"51282\", \"56626\", \"62170\", \"61455\", \"65156\", \"62117\", \"53016\", \"61252\", \"67066\", \"64141\", \"65610\", \"63986\", \"58096\", \"54298\", \"65024\", \"69196\", \"68518\", \"69029\", \"70067\", \"61749\", \"59696\", \"66873\", \"75995\", \"76827\", \"76657\", \"78479\", \"79461\", \"68766\", \"78168\", \"82860\", \"84156\", \"87115\", \"90600\", \"91725\", \"75015\", \"89855\", \"95536\", \"96762\", \"97655\", \"94414\", \"93220\", \"81913\", \"91098\", \"97860\", \"96787\", \"92973\", \"92574\", \"87395\", \"74493\", \"83362\", \"86703\", \"85921\", \"85717\", \"88759\", \"82770\", \"69669\", \"80500\", \"86748\", \"81784\", \"79883\", \"75479\", \"74770\", \"60130\", \"71869\", \"78809\", \"70797\", \"73305\", \"74418\", \"67789\", \"54262\", \"63717\", \"67811\", \"63441\", \"62304\", \"61893\", \"56519\", \"45506\", \"54348\", \"56264\", \"54371\", \"53931\", \"50366\", \"45922\", \"36019\", \"43036\", \"50188\", \"48765\", \"48117\"], \"yaxis\": \"y\"}],\n",
              "                        {\"legend\": {\"tracegroupgap\": 0}, \"margin\": {\"t\": 60}, \"template\": {\"data\": {\"bar\": [{\"error_x\": {\"color\": \"#2a3f5f\"}, \"error_y\": {\"color\": \"#2a3f5f\"}, \"marker\": {\"line\": {\"color\": \"#E5ECF6\", \"width\": 0.5}}, \"type\": \"bar\"}], \"barpolar\": [{\"marker\": {\"line\": {\"color\": \"#E5ECF6\", \"width\": 0.5}}, \"type\": \"barpolar\"}], \"carpet\": [{\"aaxis\": {\"endlinecolor\": \"#2a3f5f\", \"gridcolor\": \"white\", \"linecolor\": \"white\", \"minorgridcolor\": \"white\", \"startlinecolor\": \"#2a3f5f\"}, \"baxis\": {\"endlinecolor\": \"#2a3f5f\", \"gridcolor\": \"white\", \"linecolor\": \"white\", \"minorgridcolor\": \"white\", \"startlinecolor\": \"#2a3f5f\"}, \"type\": \"carpet\"}], \"choropleth\": [{\"colorbar\": {\"outlinewidth\": 0, \"ticks\": \"\"}, \"type\": \"choropleth\"}], \"contour\": [{\"colorbar\": {\"outlinewidth\": 0, \"ticks\": \"\"}, \"colorscale\": [[0.0, \"#0d0887\"], [0.1111111111111111, \"#46039f\"], [0.2222222222222222, \"#7201a8\"], [0.3333333333333333, \"#9c179e\"], [0.4444444444444444, \"#bd3786\"], [0.5555555555555556, \"#d8576b\"], [0.6666666666666666, \"#ed7953\"], [0.7777777777777778, \"#fb9f3a\"], [0.8888888888888888, \"#fdca26\"], [1.0, \"#f0f921\"]], \"type\": \"contour\"}], \"contourcarpet\": [{\"colorbar\": {\"outlinewidth\": 0, \"ticks\": \"\"}, \"type\": \"contourcarpet\"}], \"heatmap\": [{\"colorbar\": {\"outlinewidth\": 0, \"ticks\": \"\"}, \"colorscale\": [[0.0, \"#0d0887\"], [0.1111111111111111, \"#46039f\"], [0.2222222222222222, \"#7201a8\"], [0.3333333333333333, \"#9c179e\"], [0.4444444444444444, \"#bd3786\"], [0.5555555555555556, \"#d8576b\"], [0.6666666666666666, \"#ed7953\"], [0.7777777777777778, \"#fb9f3a\"], [0.8888888888888888, \"#fdca26\"], [1.0, \"#f0f921\"]], \"type\": \"heatmap\"}], \"heatmapgl\": [{\"colorbar\": {\"outlinewidth\": 0, \"ticks\": \"\"}, \"colorscale\": [[0.0, \"#0d0887\"], [0.1111111111111111, \"#46039f\"], [0.2222222222222222, \"#7201a8\"], [0.3333333333333333, \"#9c179e\"], [0.4444444444444444, \"#bd3786\"], [0.5555555555555556, \"#d8576b\"], [0.6666666666666666, \"#ed7953\"], [0.7777777777777778, \"#fb9f3a\"], [0.8888888888888888, \"#fdca26\"], [1.0, \"#f0f921\"]], \"type\": \"heatmapgl\"}], \"histogram\": [{\"marker\": {\"colorbar\": {\"outlinewidth\": 0, \"ticks\": \"\"}}, \"type\": \"histogram\"}], \"histogram2d\": [{\"colorbar\": {\"outlinewidth\": 0, \"ticks\": \"\"}, \"colorscale\": [[0.0, \"#0d0887\"], [0.1111111111111111, \"#46039f\"], [0.2222222222222222, \"#7201a8\"], [0.3333333333333333, \"#9c179e\"], [0.4444444444444444, \"#bd3786\"], [0.5555555555555556, \"#d8576b\"], [0.6666666666666666, \"#ed7953\"], [0.7777777777777778, \"#fb9f3a\"], [0.8888888888888888, \"#fdca26\"], [1.0, \"#f0f921\"]], \"type\": \"histogram2d\"}], \"histogram2dcontour\": [{\"colorbar\": {\"outlinewidth\": 0, \"ticks\": \"\"}, \"colorscale\": [[0.0, \"#0d0887\"], [0.1111111111111111, \"#46039f\"], [0.2222222222222222, \"#7201a8\"], [0.3333333333333333, \"#9c179e\"], [0.4444444444444444, \"#bd3786\"], [0.5555555555555556, \"#d8576b\"], [0.6666666666666666, \"#ed7953\"], [0.7777777777777778, \"#fb9f3a\"], [0.8888888888888888, \"#fdca26\"], [1.0, \"#f0f921\"]], \"type\": \"histogram2dcontour\"}], \"mesh3d\": [{\"colorbar\": {\"outlinewidth\": 0, \"ticks\": \"\"}, \"type\": \"mesh3d\"}], \"parcoords\": [{\"line\": {\"colorbar\": {\"outlinewidth\": 0, \"ticks\": \"\"}}, \"type\": \"parcoords\"}], \"pie\": [{\"automargin\": true, \"type\": \"pie\"}], \"scatter\": [{\"marker\": {\"colorbar\": {\"outlinewidth\": 0, \"ticks\": \"\"}}, \"type\": \"scatter\"}], \"scatter3d\": [{\"line\": {\"colorbar\": {\"outlinewidth\": 0, \"ticks\": \"\"}}, \"marker\": {\"colorbar\": {\"outlinewidth\": 0, \"ticks\": \"\"}}, \"type\": \"scatter3d\"}], \"scattercarpet\": [{\"marker\": {\"colorbar\": {\"outlinewidth\": 0, \"ticks\": \"\"}}, \"type\": \"scattercarpet\"}], \"scattergeo\": [{\"marker\": {\"colorbar\": {\"outlinewidth\": 0, \"ticks\": \"\"}}, \"type\": \"scattergeo\"}], \"scattergl\": [{\"marker\": {\"colorbar\": {\"outlinewidth\": 0, \"ticks\": \"\"}}, \"type\": \"scattergl\"}], \"scattermapbox\": [{\"marker\": {\"colorbar\": {\"outlinewidth\": 0, \"ticks\": \"\"}}, \"type\": \"scattermapbox\"}], \"scatterpolar\": [{\"marker\": {\"colorbar\": {\"outlinewidth\": 0, \"ticks\": \"\"}}, \"type\": \"scatterpolar\"}], \"scatterpolargl\": [{\"marker\": {\"colorbar\": {\"outlinewidth\": 0, \"ticks\": \"\"}}, \"type\": \"scatterpolargl\"}], \"scatterternary\": [{\"marker\": {\"colorbar\": {\"outlinewidth\": 0, \"ticks\": \"\"}}, \"type\": \"scatterternary\"}], \"surface\": [{\"colorbar\": {\"outlinewidth\": 0, \"ticks\": \"\"}, \"colorscale\": [[0.0, \"#0d0887\"], [0.1111111111111111, \"#46039f\"], [0.2222222222222222, \"#7201a8\"], [0.3333333333333333, \"#9c179e\"], [0.4444444444444444, \"#bd3786\"], [0.5555555555555556, \"#d8576b\"], [0.6666666666666666, \"#ed7953\"], [0.7777777777777778, \"#fb9f3a\"], [0.8888888888888888, \"#fdca26\"], [1.0, \"#f0f921\"]], \"type\": \"surface\"}], \"table\": [{\"cells\": {\"fill\": {\"color\": \"#EBF0F8\"}, \"line\": {\"color\": \"white\"}}, \"header\": {\"fill\": {\"color\": \"#C8D4E3\"}, \"line\": {\"color\": \"white\"}}, \"type\": \"table\"}]}, \"layout\": {\"annotationdefaults\": {\"arrowcolor\": \"#2a3f5f\", \"arrowhead\": 0, \"arrowwidth\": 1}, \"coloraxis\": {\"colorbar\": {\"outlinewidth\": 0, \"ticks\": \"\"}}, \"colorscale\": {\"diverging\": [[0, \"#8e0152\"], [0.1, \"#c51b7d\"], [0.2, \"#de77ae\"], [0.3, \"#f1b6da\"], [0.4, \"#fde0ef\"], [0.5, \"#f7f7f7\"], [0.6, \"#e6f5d0\"], [0.7, \"#b8e186\"], [0.8, \"#7fbc41\"], [0.9, \"#4d9221\"], [1, \"#276419\"]], \"sequential\": [[0.0, \"#0d0887\"], [0.1111111111111111, \"#46039f\"], [0.2222222222222222, \"#7201a8\"], [0.3333333333333333, \"#9c179e\"], [0.4444444444444444, \"#bd3786\"], [0.5555555555555556, \"#d8576b\"], [0.6666666666666666, \"#ed7953\"], [0.7777777777777778, \"#fb9f3a\"], [0.8888888888888888, \"#fdca26\"], [1.0, \"#f0f921\"]], \"sequentialminus\": [[0.0, \"#0d0887\"], [0.1111111111111111, \"#46039f\"], [0.2222222222222222, \"#7201a8\"], [0.3333333333333333, \"#9c179e\"], [0.4444444444444444, \"#bd3786\"], [0.5555555555555556, \"#d8576b\"], [0.6666666666666666, \"#ed7953\"], [0.7777777777777778, \"#fb9f3a\"], [0.8888888888888888, \"#fdca26\"], [1.0, \"#f0f921\"]]}, \"colorway\": [\"#636efa\", \"#EF553B\", \"#00cc96\", \"#ab63fa\", \"#FFA15A\", \"#19d3f3\", \"#FF6692\", \"#B6E880\", \"#FF97FF\", \"#FECB52\"], \"font\": {\"color\": \"#2a3f5f\"}, \"geo\": {\"bgcolor\": \"white\", \"lakecolor\": \"white\", \"landcolor\": \"#E5ECF6\", \"showlakes\": true, \"showland\": true, \"subunitcolor\": \"white\"}, \"hoverlabel\": {\"align\": \"left\"}, \"hovermode\": \"closest\", \"mapbox\": {\"style\": \"light\"}, \"paper_bgcolor\": \"white\", \"plot_bgcolor\": \"#E5ECF6\", \"polar\": {\"angularaxis\": {\"gridcolor\": \"white\", \"linecolor\": \"white\", \"ticks\": \"\"}, \"bgcolor\": \"#E5ECF6\", \"radialaxis\": {\"gridcolor\": \"white\", \"linecolor\": \"white\", \"ticks\": \"\"}}, \"scene\": {\"xaxis\": {\"backgroundcolor\": \"#E5ECF6\", \"gridcolor\": \"white\", \"gridwidth\": 2, \"linecolor\": \"white\", \"showbackground\": true, \"ticks\": \"\", \"zerolinecolor\": \"white\"}, \"yaxis\": {\"backgroundcolor\": \"#E5ECF6\", \"gridcolor\": \"white\", \"gridwidth\": 2, \"linecolor\": \"white\", \"showbackground\": true, \"ticks\": \"\", \"zerolinecolor\": \"white\"}, \"zaxis\": {\"backgroundcolor\": \"#E5ECF6\", \"gridcolor\": \"white\", \"gridwidth\": 2, \"linecolor\": \"white\", \"showbackground\": true, \"ticks\": \"\", \"zerolinecolor\": \"white\"}}, \"shapedefaults\": {\"line\": {\"color\": \"#2a3f5f\"}}, \"ternary\": {\"aaxis\": {\"gridcolor\": \"white\", \"linecolor\": \"white\", \"ticks\": \"\"}, \"baxis\": {\"gridcolor\": \"white\", \"linecolor\": \"white\", \"ticks\": \"\"}, \"bgcolor\": \"#E5ECF6\", \"caxis\": {\"gridcolor\": \"white\", \"linecolor\": \"white\", \"ticks\": \"\"}}, \"title\": {\"x\": 0.05}, \"xaxis\": {\"automargin\": true, \"gridcolor\": \"white\", \"linecolor\": \"white\", \"ticks\": \"\", \"title\": {\"standoff\": 15}, \"zerolinecolor\": \"white\", \"zerolinewidth\": 2}, \"yaxis\": {\"automargin\": true, \"gridcolor\": \"white\", \"linecolor\": \"white\", \"ticks\": \"\", \"title\": {\"standoff\": 15}, \"zerolinecolor\": \"white\", \"zerolinewidth\": 2}}}, \"title\": {\"text\": \"Daily Confirmed Cases of COVID-19 in India\"}, \"xaxis\": {\"anchor\": \"y\", \"domain\": [0.0, 1.0], \"title\": {\"text\": \"Date\"}}, \"yaxis\": {\"anchor\": \"x\", \"domain\": [0.0, 1.0], \"title\": {\"text\": \"Count\"}}},\n",
              "                        {\"responsive\": true}\n",
              "                    ).then(function(){\n",
              "                            \n",
              "var gd = document.getElementById('557f2c60-da87-41bf-ae1f-794a8b38e661');\n",
              "var x = new MutationObserver(function (mutations, observer) {{\n",
              "        var display = window.getComputedStyle(gd).display;\n",
              "        if (!display || display === 'none') {{\n",
              "            console.log([gd, 'removed!']);\n",
              "            Plotly.purge(gd);\n",
              "            observer.disconnect();\n",
              "        }}\n",
              "}});\n",
              "\n",
              "// Listen for the removal of the full notebook cells\n",
              "var notebookContainer = gd.closest('#notebook-container');\n",
              "if (notebookContainer) {{\n",
              "    x.observe(notebookContainer, {childList: true});\n",
              "}}\n",
              "\n",
              "// Listen for the clearing of the current output cell\n",
              "var outputEl = gd.closest('.output');\n",
              "if (outputEl) {{\n",
              "    x.observe(outputEl, {childList: true});\n",
              "}}\n",
              "\n",
              "                        })\n",
              "                };\n",
              "                \n",
              "            </script>\n",
              "        </div>\n",
              "</body>\n",
              "</html>"
            ]
          },
          "metadata": {
            "tags": []
          }
        }
      ]
    },
    {
      "cell_type": "markdown",
      "metadata": {
        "id": "1A8MDX5L5rfv"
      },
      "source": [
        "**Using Plotly to plot the daily confirmed, deceased, recovered cases according to dates in a single graph based on real time data**"
      ]
    },
    {
      "cell_type": "code",
      "metadata": {
        "id": "l6-dX_M05rfx",
        "outputId": "1d4fbe1b-aa35-4fd4-97e7-e5c7bca900d1",
        "colab": {
          "base_uri": "https://localhost:8080/",
          "height": 560
        }
      },
      "source": [
        "fig = go.Figure()\n",
        "\n",
        "fig.add_trace( go.Scatter(x = df_confirmed_cases.Date, y = df_confirmed_cases.Count, mode='lines',\n",
        "                    name='Confirmed Cases', line=dict(color='royalblue', width=4) ) )\n",
        "\n",
        "fig.add_trace( go.Scatter(x = df_deceased_cases.Date, y = df_deceased_cases.Count,mode='lines',\n",
        "                    name='Deceased Cases',  line=dict(color='darkred', width=4) ) )\n",
        "\n",
        "fig.add_trace( go.Scatter(x = df_recovered_cases.Date, y = df_recovered_cases.Count,mode='lines',\n",
        "                    name='Recovered Cases',  line=dict(color='green', width=4) ) )\n",
        "\n",
        "fig.update_layout(title_text=\"COVID-19 Daily Status India\", xaxis_title='Date',\n",
        "                   yaxis_title='Count')\n",
        "\n",
        "fig.show()\n",
        "plot(fig)"
      ],
      "execution_count": 18,
      "outputs": [
        {
          "output_type": "display_data",
          "data": {
            "text/html": [
              "<html>\n",
              "<head><meta charset=\"utf-8\" /></head>\n",
              "<body>\n",
              "    <div>\n",
              "            <script src=\"https://cdnjs.cloudflare.com/ajax/libs/mathjax/2.7.5/MathJax.js?config=TeX-AMS-MML_SVG\"></script><script type=\"text/javascript\">if (window.MathJax) {MathJax.Hub.Config({SVG: {font: \"STIX-Web\"}});}</script>\n",
              "                <script type=\"text/javascript\">window.PlotlyConfig = {MathJaxConfig: 'local'};</script>\n",
              "        <script src=\"https://cdn.plot.ly/plotly-latest.min.js\"></script>    \n",
              "            <div id=\"d5c50946-8111-46b6-99ae-7d29485fcc29\" class=\"plotly-graph-div\" style=\"height:525px; width:100%;\"></div>\n",
              "            <script type=\"text/javascript\">\n",
              "                \n",
              "                    window.PLOTLYENV=window.PLOTLYENV || {};\n",
              "                    \n",
              "                if (document.getElementById(\"d5c50946-8111-46b6-99ae-7d29485fcc29\")) {\n",
              "                    Plotly.newPlot(\n",
              "                        'd5c50946-8111-46b6-99ae-7d29485fcc29',\n",
              "                        [{\"line\": {\"color\": \"royalblue\", \"width\": 4}, \"mode\": \"lines\", \"name\": \"Confirmed Cases\", \"type\": \"scatter\", \"x\": [\"30 January \", \"31 January \", \"01 February \", \"02 February \", \"03 February \", \"04 February \", \"05 February \", \"06 February \", \"07 February \", \"08 February \", \"09 February \", \"10 February \", \"11 February \", \"12 February \", \"13 February \", \"14 February \", \"15 February \", \"16 February \", \"17 February \", \"18 February \", \"19 February \", \"20 February \", \"21 February \", \"22 February \", \"23 February \", \"24 February \", \"25 February \", \"26 February \", \"27 February \", \"28 February \", \"29 February \", \"01 March \", \"02 March \", \"03 March \", \"04 March \", \"05 March \", \"06 March \", \"07 March \", \"08 March \", \"09 March \", \"10 March \", \"11 March \", \"12 March \", \"13 March \", \"14 March \", \"15 March \", \"16 March \", \"17 March \", \"18 March \", \"19 March \", \"20 March \", \"21 March \", \"22 March \", \"23 March \", \"24 March \", \"25 March \", \"26 March \", \"27 March \", \"28 March \", \"29 March \", \"30 March \", \"31 March \", \"01 April \", \"02 April \", \"03 April \", \"04 April \", \"05 April \", \"06 April \", \"07 April \", \"08 April \", \"09 April \", \"10 April \", \"11 April \", \"12 April \", \"13 April \", \"14 April \", \"15 April \", \"16 April \", \"17 April \", \"18 April \", \"19 April \", \"20 April \", \"21 April \", \"22 April \", \"23 April \", \"24 April \", \"25 April \", \"26 April \", \"27 April \", \"28 April \", \"29 April \", \"30 April \", \"01 May \", \"02 May \", \"03 May \", \"04 May \", \"05 May \", \"06 May \", \"07 May \", \"08 May \", \"09 May \", \"10 May \", \"11 May \", \"12 May \", \"13 May \", \"14 May \", \"15 May \", \"16 May \", \"17 May \", \"18 May \", \"19 May \", \"20 May \", \"21 May \", \"22 May \", \"23 May \", \"24 May \", \"25 May \", \"26 May \", \"27 May \", \"28 May \", \"29 May \", \"30 May \", \"31 May \", \"01 June \", \"02 June \", \"03 June \", \"04 June \", \"05 June \", \"06 June \", \"07 June \", \"08 June \", \"09 June \", \"10 June \", \"11 June \", \"12 June \", \"13 June \", \"14 June \", \"15 June \", \"16 June \", \"17 June \", \"18 June \", \"19 June \", \"20 June \", \"21 June \", \"22 June \", \"23 June \", \"24 June \", \"25 June \", \"26 June \", \"27 June \", \"28 June \", \"29 June \", \"30 June \", \"01 July \", \"02 July \", \"03 July \", \"04 July \", \"05 July \", \"06 July \", \"07 July \", \"08 July \", \"09 July \", \"10 July \", \"11 July \", \"12 July \", \"13 July \", \"14 July \", \"15 July \", \"16 July \", \"17 July \", \"18 July \", \"19 July \", \"20 July \", \"21 July \", \"22 July \", \"23 July \", \"24 July \", \"25 July \", \"26 July \", \"27 July \", \"28 July \", \"29 July \", \"30 July \", \"31 July \", \"01 August \", \"02 August \", \"03 August \", \"04 August \", \"05 August \", \"06 August \", \"07 August \", \"08 August \", \"09 August \", \"10 August \", \"11 August \", \"12 August \", \"13 August \", \"14 August \", \"15 August \", \"16 August \", \"17 August \", \"18 August \", \"19 August \", \"20 August \", \"21 August \", \"22 August \", \"23 August \", \"24 August \", \"25 August \", \"26 August \", \"27 August \", \"28 August \", \"29 August \", \"30 August \", \"31 August \", \"01 September \", \"02 September \", \"03 September \", \"04 September \", \"05 September \", \"06 September \", \"07 September \", \"08 September \", \"09 September \", \"10 September \", \"11 September \", \"12 September \", \"13 September \", \"14 September \", \"15 September \", \"16 September \", \"17 September \", \"18 September \", \"19 September \", \"20 September \", \"21 September \", \"22 September \", \"23 September \", \"24 September \", \"25 September \", \"26 September \", \"27 September \", \"28 September \", \"29 September \", \"30 September \", \"01 October \", \"02 October \", \"03 October \", \"04 October \", \"05 October \", \"06 October \", \"07 October \", \"08 October \", \"09 October \", \"10 October \", \"11 October \", \"12 October \", \"13 October \", \"14 October \", \"15 October \", \"16 October \", \"17 October \", \"18 October \", \"19 October \", \"20 October \", \"21 October \", \"22 October \", \"23 October \", \"24 October \", \"25 October \", \"26 October \", \"27 October \", \"28 October \", \"29 October \", \"30 October \"], \"y\": [\"1\", \"0\", \"0\", \"1\", \"1\", \"0\", \"0\", \"0\", \"0\", \"0\", \"0\", \"0\", \"0\", \"0\", \"0\", \"0\", \"0\", \"0\", \"0\", \"0\", \"0\", \"0\", \"0\", \"0\", \"0\", \"0\", \"0\", \"0\", \"0\", \"0\", \"0\", \"0\", \"2\", \"1\", \"22\", \"2\", \"1\", \"3\", \"5\", \"9\", \"15\", \"8\", \"10\", \"10\", \"11\", \"10\", \"14\", \"20\", \"25\", \"27\", \"58\", \"78\", \"69\", \"94\", \"74\", \"86\", \"73\", \"153\", \"136\", \"120\", \"187\", \"309\", \"424\", \"486\", \"560\", \"579\", \"609\", \"484\", \"573\", \"565\", \"813\", \"871\", \"854\", \"758\", \"1243\", \"1031\", \"886\", \"1061\", \"922\", \"1371\", \"1580\", \"1239\", \"1537\", \"1292\", \"1667\", \"1408\", \"1835\", \"1607\", \"1568\", \"1902\", \"1705\", \"1801\", \"2396\", \"2564\", \"2952\", \"3656\", \"2971\", \"3602\", \"3344\", \"3339\", \"3175\", \"4311\", \"3592\", \"3562\", \"3726\", \"3991\", \"3808\", \"4794\", \"5049\", \"4628\", \"6154\", \"5720\", \"6023\", \"6536\", \"6667\", \"7111\", \"6414\", \"5907\", \"7246\", \"7254\", \"8138\", \"8364\", \"8789\", \"7723\", \"8812\", \"9689\", \"9847\", \"9472\", \"10408\", \"10882\", \"8536\", \"9981\", \"11156\", \"11135\", \"11306\", \"12039\", \"11405\", \"10032\", \"11086\", \"13108\", \"13829\", \"14740\", \"15918\", \"15151\", \"13560\", \"15656\", \"16868\", \"18205\", \"18255\", \"20142\", \"19610\", \"18339\", \"18256\", \"19429\", \"21947\", \"22718\", \"24018\", \"23942\", \"22500\", \"23147\", \"25561\", \"25790\", \"27762\", \"27757\", \"29106\", \"28178\", \"29917\", \"32607\", \"35468\", \"34820\", \"37411\", \"40235\", \"36806\", \"39170\", \"45601\", \"48443\", \"48888\", \"50072\", \"48932\", \"46484\", \"49631\", \"52479\", \"54968\", \"57486\", \"55117\", \"52672\", \"50488\", \"51282\", \"56626\", \"62170\", \"61455\", \"65156\", \"62117\", \"53016\", \"61252\", \"67066\", \"64141\", \"65610\", \"63986\", \"58096\", \"54298\", \"65024\", \"69196\", \"68518\", \"69029\", \"70067\", \"61749\", \"59696\", \"66873\", \"75995\", \"76827\", \"76657\", \"78479\", \"79461\", \"68766\", \"78168\", \"82860\", \"84156\", \"87115\", \"90600\", \"91725\", \"75015\", \"89855\", \"95536\", \"96762\", \"97655\", \"94414\", \"93220\", \"81913\", \"91098\", \"97860\", \"96787\", \"92973\", \"92574\", \"87395\", \"74493\", \"83362\", \"86703\", \"85921\", \"85717\", \"88759\", \"82770\", \"69669\", \"80500\", \"86748\", \"81784\", \"79883\", \"75479\", \"74770\", \"60130\", \"71869\", \"78809\", \"70797\", \"73305\", \"74418\", \"67789\", \"54262\", \"63717\", \"67811\", \"63441\", \"62304\", \"61893\", \"56519\", \"45506\", \"54348\", \"56264\", \"54371\", \"53931\", \"50366\", \"45922\", \"36019\", \"43036\", \"50188\", \"48765\", \"48117\"]}, {\"line\": {\"color\": \"darkred\", \"width\": 4}, \"mode\": \"lines\", \"name\": \"Deceased Cases\", \"type\": \"scatter\", \"x\": [\"30 January \", \"31 January \", \"01 February \", \"02 February \", \"03 February \", \"04 February \", \"05 February \", \"06 February \", \"07 February \", \"08 February \", \"09 February \", \"10 February \", \"11 February \", \"12 February \", \"13 February \", \"14 February \", \"15 February \", \"16 February \", \"17 February \", \"18 February \", \"19 February \", \"20 February \", \"21 February \", \"22 February \", \"23 February \", \"24 February \", \"25 February \", \"26 February \", \"27 February \", \"28 February \", \"29 February \", \"01 March \", \"02 March \", \"03 March \", \"04 March \", \"05 March \", \"06 March \", \"07 March \", \"08 March \", \"09 March \", \"10 March \", \"11 March \", \"12 March \", \"13 March \", \"14 March \", \"15 March \", \"16 March \", \"17 March \", \"18 March \", \"19 March \", \"20 March \", \"21 March \", \"22 March \", \"23 March \", \"24 March \", \"25 March \", \"26 March \", \"27 March \", \"28 March \", \"29 March \", \"30 March \", \"31 March \", \"01 April \", \"02 April \", \"03 April \", \"04 April \", \"05 April \", \"06 April \", \"07 April \", \"08 April \", \"09 April \", \"10 April \", \"11 April \", \"12 April \", \"13 April \", \"14 April \", \"15 April \", \"16 April \", \"17 April \", \"18 April \", \"19 April \", \"20 April \", \"21 April \", \"22 April \", \"23 April \", \"24 April \", \"25 April \", \"26 April \", \"27 April \", \"28 April \", \"29 April \", \"30 April \", \"01 May \", \"02 May \", \"03 May \", \"04 May \", \"05 May \", \"06 May \", \"07 May \", \"08 May \", \"09 May \", \"10 May \", \"11 May \", \"12 May \", \"13 May \", \"14 May \", \"15 May \", \"16 May \", \"17 May \", \"18 May \", \"19 May \", \"20 May \", \"21 May \", \"22 May \", \"23 May \", \"24 May \", \"25 May \", \"26 May \", \"27 May \", \"28 May \", \"29 May \", \"30 May \", \"31 May \", \"01 June \", \"02 June \", \"03 June \", \"04 June \", \"05 June \", \"06 June \", \"07 June \", \"08 June \", \"09 June \", \"10 June \", \"11 June \", \"12 June \", \"13 June \", \"14 June \", \"15 June \", \"16 June \", \"17 June \", \"18 June \", \"19 June \", \"20 June \", \"21 June \", \"22 June \", \"23 June \", \"24 June \", \"25 June \", \"26 June \", \"27 June \", \"28 June \", \"29 June \", \"30 June \", \"01 July \", \"02 July \", \"03 July \", \"04 July \", \"05 July \", \"06 July \", \"07 July \", \"08 July \", \"09 July \", \"10 July \", \"11 July \", \"12 July \", \"13 July \", \"14 July \", \"15 July \", \"16 July \", \"17 July \", \"18 July \", \"19 July \", \"20 July \", \"21 July \", \"22 July \", \"23 July \", \"24 July \", \"25 July \", \"26 July \", \"27 July \", \"28 July \", \"29 July \", \"30 July \", \"31 July \", \"01 August \", \"02 August \", \"03 August \", \"04 August \", \"05 August \", \"06 August \", \"07 August \", \"08 August \", \"09 August \", \"10 August \", \"11 August \", \"12 August \", \"13 August \", \"14 August \", \"15 August \", \"16 August \", \"17 August \", \"18 August \", \"19 August \", \"20 August \", \"21 August \", \"22 August \", \"23 August \", \"24 August \", \"25 August \", \"26 August \", \"27 August \", \"28 August \", \"29 August \", \"30 August \", \"31 August \", \"01 September \", \"02 September \", \"03 September \", \"04 September \", \"05 September \", \"06 September \", \"07 September \", \"08 September \", \"09 September \", \"10 September \", \"11 September \", \"12 September \", \"13 September \", \"14 September \", \"15 September \", \"16 September \", \"17 September \", \"18 September \", \"19 September \", \"20 September \", \"21 September \", \"22 September \", \"23 September \", \"24 September \", \"25 September \", \"26 September \", \"27 September \", \"28 September \", \"29 September \", \"30 September \", \"01 October \", \"02 October \", \"03 October \", \"04 October \", \"05 October \", \"06 October \", \"07 October \", \"08 October \", \"09 October \", \"10 October \", \"11 October \", \"12 October \", \"13 October \", \"14 October \", \"15 October \", \"16 October \", \"17 October \", \"18 October \", \"19 October \", \"20 October \", \"21 October \", \"22 October \", \"23 October \", \"24 October \", \"25 October \", \"26 October \", \"27 October \", \"28 October \", \"29 October \", \"30 October \"], \"y\": [\"0\", \"0\", \"0\", \"0\", \"0\", \"0\", \"0\", \"0\", \"0\", \"0\", \"0\", \"0\", \"0\", \"0\", \"0\", \"0\", \"0\", \"0\", \"0\", \"0\", \"0\", \"0\", \"0\", \"0\", \"0\", \"0\", \"0\", \"0\", \"0\", \"0\", \"0\", \"0\", \"0\", \"0\", \"0\", \"0\", \"0\", \"0\", \"0\", \"0\", \"0\", \"0\", \"1\", \"0\", \"1\", \"0\", \"0\", \"1\", \"0\", \"1\", \"0\", \"0\", \"3\", \"2\", \"1\", \"1\", \"5\", \"3\", \"5\", \"3\", \"14\", \"6\", \"6\", \"16\", \"14\", \"13\", \"22\", \"16\", \"27\", \"20\", \"46\", \"22\", \"41\", \"42\", \"27\", \"37\", \"27\", \"26\", \"38\", \"35\", \"38\", \"33\", \"53\", \"36\", \"40\", \"59\", \"44\", \"56\", \"58\", \"69\", \"71\", \"75\", \"77\", \"92\", \"140\", \"103\", \"128\", \"91\", \"104\", \"97\", \"115\", \"112\", \"81\", \"120\", \"137\", \"97\", \"104\", \"120\", \"152\", \"131\", \"146\", \"134\", \"148\", \"142\", \"142\", \"156\", \"150\", \"173\", \"188\", \"176\", \"269\", \"205\", \"222\", \"201\", \"222\", \"259\", \"274\", \"286\", \"297\", \"261\", \"271\", \"272\", \"358\", \"394\", \"388\", \"309\", \"324\", \"396\", \"2004\", \"341\", \"343\", \"364\", \"308\", \"426\", \"312\", \"468\", \"424\", \"401\", \"381\", \"414\", \"384\", \"417\", \"506\", \"438\", \"378\", \"444\", \"611\", \"421\", \"473\", \"479\", \"492\", \"479\", \"520\", \"543\", \"500\", \"541\", \"587\", \"614\", \"680\", \"676\", \"543\", \"675\", \"596\", \"671\", \"1130\", \"755\", \"763\", \"703\", \"704\", \"642\", \"774\", \"775\", \"784\", \"764\", \"854\", \"760\", \"806\", \"849\", \"919\", \"899\", \"936\", \"875\", \"1013\", \"887\", \"835\", \"950\", \"1006\", \"989\", \"952\", \"952\", \"880\", \"1099\", \"979\", \"981\", \"953\", \"918\", \"846\", \"854\", \"1066\", \"1017\", \"1066\", \"1019\", \"943\", \"960\", \"816\", \"892\", \"913\", \"979\", \"950\", \"916\", \"1005\", \"1129\", \"1107\", \"1168\", \"1213\", \"1202\", \"1111\", \"1140\", \"1054\", \"1281\", \"1140\", \"1175\", \"1221\", \"1149\", \"1135\", \"1056\", \"1085\", \"1123\", \"1144\", \"1093\", \"1124\", \"1040\", \"775\", \"1178\", \"1179\", \"1099\", \"1068\", \"937\", \"903\", \"886\", \"990\", \"963\", \"967\", \"929\", \"921\", \"813\", \"710\", \"727\", \"690\", \"882\", \"840\", \"1032\", \"582\", \"589\", \"714\", \"701\", \"686\", \"655\", \"578\", \"483\", \"485\", \"511\", \"514\", \"562\", \"550\"]}, {\"line\": {\"color\": \"green\", \"width\": 4}, \"mode\": \"lines\", \"name\": \"Recovered Cases\", \"type\": \"scatter\", \"x\": [\"30 January \", \"31 January \", \"01 February \", \"02 February \", \"03 February \", \"04 February \", \"05 February \", \"06 February \", \"07 February \", \"08 February \", \"09 February \", \"10 February \", \"11 February \", \"12 February \", \"13 February \", \"14 February \", \"15 February \", \"16 February \", \"17 February \", \"18 February \", \"19 February \", \"20 February \", \"21 February \", \"22 February \", \"23 February \", \"24 February \", \"25 February \", \"26 February \", \"27 February \", \"28 February \", \"29 February \", \"01 March \", \"02 March \", \"03 March \", \"04 March \", \"05 March \", \"06 March \", \"07 March \", \"08 March \", \"09 March \", \"10 March \", \"11 March \", \"12 March \", \"13 March \", \"14 March \", \"15 March \", \"16 March \", \"17 March \", \"18 March \", \"19 March \", \"20 March \", \"21 March \", \"22 March \", \"23 March \", \"24 March \", \"25 March \", \"26 March \", \"27 March \", \"28 March \", \"29 March \", \"30 March \", \"31 March \", \"01 April \", \"02 April \", \"03 April \", \"04 April \", \"05 April \", \"06 April \", \"07 April \", \"08 April \", \"09 April \", \"10 April \", \"11 April \", \"12 April \", \"13 April \", \"14 April \", \"15 April \", \"16 April \", \"17 April \", \"18 April \", \"19 April \", \"20 April \", \"21 April \", \"22 April \", \"23 April \", \"24 April \", \"25 April \", \"26 April \", \"27 April \", \"28 April \", \"29 April \", \"30 April \", \"01 May \", \"02 May \", \"03 May \", \"04 May \", \"05 May \", \"06 May \", \"07 May \", \"08 May \", \"09 May \", \"10 May \", \"11 May \", \"12 May \", \"13 May \", \"14 May \", \"15 May \", \"16 May \", \"17 May \", \"18 May \", \"19 May \", \"20 May \", \"21 May \", \"22 May \", \"23 May \", \"24 May \", \"25 May \", \"26 May \", \"27 May \", \"28 May \", \"29 May \", \"30 May \", \"31 May \", \"01 June \", \"02 June \", \"03 June \", \"04 June \", \"05 June \", \"06 June \", \"07 June \", \"08 June \", \"09 June \", \"10 June \", \"11 June \", \"12 June \", \"13 June \", \"14 June \", \"15 June \", \"16 June \", \"17 June \", \"18 June \", \"19 June \", \"20 June \", \"21 June \", \"22 June \", \"23 June \", \"24 June \", \"25 June \", \"26 June \", \"27 June \", \"28 June \", \"29 June \", \"30 June \", \"01 July \", \"02 July \", \"03 July \", \"04 July \", \"05 July \", \"06 July \", \"07 July \", \"08 July \", \"09 July \", \"10 July \", \"11 July \", \"12 July \", \"13 July \", \"14 July \", \"15 July \", \"16 July \", \"17 July \", \"18 July \", \"19 July \", \"20 July \", \"21 July \", \"22 July \", \"23 July \", \"24 July \", \"25 July \", \"26 July \", \"27 July \", \"28 July \", \"29 July \", \"30 July \", \"31 July \", \"01 August \", \"02 August \", \"03 August \", \"04 August \", \"05 August \", \"06 August \", \"07 August \", \"08 August \", \"09 August \", \"10 August \", \"11 August \", \"12 August \", \"13 August \", \"14 August \", \"15 August \", \"16 August \", \"17 August \", \"18 August \", \"19 August \", \"20 August \", \"21 August \", \"22 August \", \"23 August \", \"24 August \", \"25 August \", \"26 August \", \"27 August \", \"28 August \", \"29 August \", \"30 August \", \"31 August \", \"01 September \", \"02 September \", \"03 September \", \"04 September \", \"05 September \", \"06 September \", \"07 September \", \"08 September \", \"09 September \", \"10 September \", \"11 September \", \"12 September \", \"13 September \", \"14 September \", \"15 September \", \"16 September \", \"17 September \", \"18 September \", \"19 September \", \"20 September \", \"21 September \", \"22 September \", \"23 September \", \"24 September \", \"25 September \", \"26 September \", \"27 September \", \"28 September \", \"29 September \", \"30 September \", \"01 October \", \"02 October \", \"03 October \", \"04 October \", \"05 October \", \"06 October \", \"07 October \", \"08 October \", \"09 October \", \"10 October \", \"11 October \", \"12 October \", \"13 October \", \"14 October \", \"15 October \", \"16 October \", \"17 October \", \"18 October \", \"19 October \", \"20 October \", \"21 October \", \"22 October \", \"23 October \", \"24 October \", \"25 October \", \"26 October \", \"27 October \", \"28 October \", \"29 October \", \"30 October \"], \"y\": [\"0\", \"0\", \"0\", \"0\", \"0\", \"0\", \"0\", \"0\", \"0\", \"0\", \"0\", \"0\", \"0\", \"0\", \"1\", \"0\", \"0\", \"1\", \"0\", \"0\", \"0\", \"1\", \"0\", \"0\", \"0\", \"0\", \"0\", \"0\", \"0\", \"0\", \"0\", \"0\", \"0\", \"0\", \"0\", \"0\", \"0\", \"0\", \"0\", \"0\", \"1\", \"0\", \"0\", \"6\", \"0\", \"3\", \"1\", \"1\", \"0\", \"5\", \"3\", \"0\", \"0\", \"2\", \"15\", \"3\", \"7\", \"25\", \"10\", \"17\", \"35\", \"13\", \"19\", \"22\", \"39\", \"56\", \"43\", \"65\", \"75\", \"96\", \"70\", \"151\", \"186\", \"114\", \"112\", \"167\", \"144\", \"258\", \"273\", \"426\", \"388\", \"419\", \"703\", \"394\", \"642\", \"484\", \"442\", \"585\", \"580\", \"636\", \"690\", \"630\", \"962\", \"831\", \"911\", \"1082\", \"1295\", \"1161\", \"1475\", \"1111\", \"1414\", \"1669\", \"1579\", \"1905\", \"1963\", \"1594\", \"2234\", \"4012\", \"2538\", \"2482\", \"3032\", \"3113\", \"3131\", \"3280\", \"2576\", \"3285\", \"3012\", \"3585\", \"3434\", \"3171\", \"11735\", \"4303\", \"4928\", \"3882\", \"4531\", \"3789\", \"4390\", \"4770\", \"5433\", \"5191\", \"5171\", \"5634\", \"6275\", \"6044\", \"7263\", \"8092\", \"7358\", \"10639\", \"7226\", \"6890\", \"10741\", \"9029\", \"13974\", \"9075\", \"10879\", \"10462\", \"13089\", \"13983\", \"10246\", \"14229\", \"11631\", \"13497\", \"12565\", \"12064\", \"19999\", \"14417\", \"14746\", \"15829\", \"15315\", \"16836\", \"19508\", \"19408\", \"20289\", \"19981\", \"18198\", \"17683\", \"20977\", \"20646\", \"22867\", \"17476\", \"23583\", \"22730\", \"24303\", \"27589\", \"31875\", \"33326\", \"32514\", \"37125\", \"31512\", \"34354\", \"35683\", \"32886\", \"37425\", \"36554\", \"51368\", \"40355\", \"43070\", \"51220\", \"45583\", \"50141\", \"50387\", \"52135\", \"54474\", \"47362\", \"56461\", \"57759\", \"54776\", \"56920\", \"53116\", \"57404\", \"58172\", \"60455\", \"59365\", \"61873\", \"62858\", \"59101\", \"56896\", \"66305\", \"64151\", \"56191\", \"59620\", \"64475\", \"64982\", \"60422\", \"64435\", \"62145\", \"67874\", \"67491\", \"69625\", \"73161\", \"69630\", \"74116\", \"74608\", \"73062\", \"70904\", \"81456\", \"77862\", \"77748\", \"79213\", \"82849\", \"82924\", \"87788\", \"95515\", \"94389\", \"92926\", \"102070\", \"89657\", \"87459\", \"81142\", \"93331\", \"92365\", \"74691\", \"85198\", \"86150\", \"85274\", \"78731\", \"76339\", \"81655\", \"76713\", \"75855\", \"81945\", \"83209\", \"78745\", \"82628\", \"89024\", \"71565\", \"78365\", \"74079\", \"81582\", \"70792\", \"70568\", \"72583\", \"66418\", \"69800\", \"61828\", \"79561\", \"74569\", \"66994\", \"62270\", \"59304\", \"63734\", \"58429\", \"56594\", \"57867\", \"59005\"]}],\n",
              "                        {\"template\": {\"data\": {\"bar\": [{\"error_x\": {\"color\": \"#2a3f5f\"}, \"error_y\": {\"color\": \"#2a3f5f\"}, \"marker\": {\"line\": {\"color\": \"#E5ECF6\", \"width\": 0.5}}, \"type\": \"bar\"}], \"barpolar\": [{\"marker\": {\"line\": {\"color\": \"#E5ECF6\", \"width\": 0.5}}, \"type\": \"barpolar\"}], \"carpet\": [{\"aaxis\": {\"endlinecolor\": \"#2a3f5f\", \"gridcolor\": \"white\", \"linecolor\": \"white\", \"minorgridcolor\": \"white\", \"startlinecolor\": \"#2a3f5f\"}, \"baxis\": {\"endlinecolor\": \"#2a3f5f\", \"gridcolor\": \"white\", \"linecolor\": \"white\", \"minorgridcolor\": \"white\", \"startlinecolor\": \"#2a3f5f\"}, \"type\": \"carpet\"}], \"choropleth\": [{\"colorbar\": {\"outlinewidth\": 0, \"ticks\": \"\"}, \"type\": \"choropleth\"}], \"contour\": [{\"colorbar\": {\"outlinewidth\": 0, \"ticks\": \"\"}, \"colorscale\": [[0.0, \"#0d0887\"], [0.1111111111111111, \"#46039f\"], [0.2222222222222222, \"#7201a8\"], [0.3333333333333333, \"#9c179e\"], [0.4444444444444444, \"#bd3786\"], [0.5555555555555556, \"#d8576b\"], [0.6666666666666666, \"#ed7953\"], [0.7777777777777778, \"#fb9f3a\"], [0.8888888888888888, \"#fdca26\"], [1.0, \"#f0f921\"]], \"type\": \"contour\"}], \"contourcarpet\": [{\"colorbar\": {\"outlinewidth\": 0, \"ticks\": \"\"}, \"type\": \"contourcarpet\"}], \"heatmap\": [{\"colorbar\": {\"outlinewidth\": 0, \"ticks\": \"\"}, \"colorscale\": [[0.0, \"#0d0887\"], [0.1111111111111111, \"#46039f\"], [0.2222222222222222, \"#7201a8\"], [0.3333333333333333, \"#9c179e\"], [0.4444444444444444, \"#bd3786\"], [0.5555555555555556, \"#d8576b\"], [0.6666666666666666, \"#ed7953\"], [0.7777777777777778, \"#fb9f3a\"], [0.8888888888888888, \"#fdca26\"], [1.0, \"#f0f921\"]], \"type\": \"heatmap\"}], \"heatmapgl\": [{\"colorbar\": {\"outlinewidth\": 0, \"ticks\": \"\"}, \"colorscale\": [[0.0, \"#0d0887\"], [0.1111111111111111, \"#46039f\"], [0.2222222222222222, \"#7201a8\"], [0.3333333333333333, \"#9c179e\"], [0.4444444444444444, \"#bd3786\"], [0.5555555555555556, \"#d8576b\"], [0.6666666666666666, \"#ed7953\"], [0.7777777777777778, \"#fb9f3a\"], [0.8888888888888888, \"#fdca26\"], [1.0, \"#f0f921\"]], \"type\": \"heatmapgl\"}], \"histogram\": [{\"marker\": {\"colorbar\": {\"outlinewidth\": 0, \"ticks\": \"\"}}, \"type\": \"histogram\"}], \"histogram2d\": [{\"colorbar\": {\"outlinewidth\": 0, \"ticks\": \"\"}, \"colorscale\": [[0.0, \"#0d0887\"], [0.1111111111111111, \"#46039f\"], [0.2222222222222222, \"#7201a8\"], [0.3333333333333333, \"#9c179e\"], [0.4444444444444444, \"#bd3786\"], [0.5555555555555556, \"#d8576b\"], [0.6666666666666666, \"#ed7953\"], [0.7777777777777778, \"#fb9f3a\"], [0.8888888888888888, \"#fdca26\"], [1.0, \"#f0f921\"]], \"type\": \"histogram2d\"}], \"histogram2dcontour\": [{\"colorbar\": {\"outlinewidth\": 0, \"ticks\": \"\"}, \"colorscale\": [[0.0, \"#0d0887\"], [0.1111111111111111, \"#46039f\"], [0.2222222222222222, \"#7201a8\"], [0.3333333333333333, \"#9c179e\"], [0.4444444444444444, \"#bd3786\"], [0.5555555555555556, \"#d8576b\"], [0.6666666666666666, \"#ed7953\"], [0.7777777777777778, \"#fb9f3a\"], [0.8888888888888888, \"#fdca26\"], [1.0, \"#f0f921\"]], \"type\": \"histogram2dcontour\"}], \"mesh3d\": [{\"colorbar\": {\"outlinewidth\": 0, \"ticks\": \"\"}, \"type\": \"mesh3d\"}], \"parcoords\": [{\"line\": {\"colorbar\": {\"outlinewidth\": 0, \"ticks\": \"\"}}, \"type\": \"parcoords\"}], \"pie\": [{\"automargin\": true, \"type\": \"pie\"}], \"scatter\": [{\"marker\": {\"colorbar\": {\"outlinewidth\": 0, \"ticks\": \"\"}}, \"type\": \"scatter\"}], \"scatter3d\": [{\"line\": {\"colorbar\": {\"outlinewidth\": 0, \"ticks\": \"\"}}, \"marker\": {\"colorbar\": {\"outlinewidth\": 0, \"ticks\": \"\"}}, \"type\": \"scatter3d\"}], \"scattercarpet\": [{\"marker\": {\"colorbar\": {\"outlinewidth\": 0, \"ticks\": \"\"}}, \"type\": \"scattercarpet\"}], \"scattergeo\": [{\"marker\": {\"colorbar\": {\"outlinewidth\": 0, \"ticks\": \"\"}}, \"type\": \"scattergeo\"}], \"scattergl\": [{\"marker\": {\"colorbar\": {\"outlinewidth\": 0, \"ticks\": \"\"}}, \"type\": \"scattergl\"}], \"scattermapbox\": [{\"marker\": {\"colorbar\": {\"outlinewidth\": 0, \"ticks\": \"\"}}, \"type\": \"scattermapbox\"}], \"scatterpolar\": [{\"marker\": {\"colorbar\": {\"outlinewidth\": 0, \"ticks\": \"\"}}, \"type\": \"scatterpolar\"}], \"scatterpolargl\": [{\"marker\": {\"colorbar\": {\"outlinewidth\": 0, \"ticks\": \"\"}}, \"type\": \"scatterpolargl\"}], \"scatterternary\": [{\"marker\": {\"colorbar\": {\"outlinewidth\": 0, \"ticks\": \"\"}}, \"type\": \"scatterternary\"}], \"surface\": [{\"colorbar\": {\"outlinewidth\": 0, \"ticks\": \"\"}, \"colorscale\": [[0.0, \"#0d0887\"], [0.1111111111111111, \"#46039f\"], [0.2222222222222222, \"#7201a8\"], [0.3333333333333333, \"#9c179e\"], [0.4444444444444444, \"#bd3786\"], [0.5555555555555556, \"#d8576b\"], [0.6666666666666666, \"#ed7953\"], [0.7777777777777778, \"#fb9f3a\"], [0.8888888888888888, \"#fdca26\"], [1.0, \"#f0f921\"]], \"type\": \"surface\"}], \"table\": [{\"cells\": {\"fill\": {\"color\": \"#EBF0F8\"}, \"line\": {\"color\": \"white\"}}, \"header\": {\"fill\": {\"color\": \"#C8D4E3\"}, \"line\": {\"color\": \"white\"}}, \"type\": \"table\"}]}, \"layout\": {\"annotationdefaults\": {\"arrowcolor\": \"#2a3f5f\", \"arrowhead\": 0, \"arrowwidth\": 1}, \"coloraxis\": {\"colorbar\": {\"outlinewidth\": 0, \"ticks\": \"\"}}, \"colorscale\": {\"diverging\": [[0, \"#8e0152\"], [0.1, \"#c51b7d\"], [0.2, \"#de77ae\"], [0.3, \"#f1b6da\"], [0.4, \"#fde0ef\"], [0.5, \"#f7f7f7\"], [0.6, \"#e6f5d0\"], [0.7, \"#b8e186\"], [0.8, \"#7fbc41\"], [0.9, \"#4d9221\"], [1, \"#276419\"]], \"sequential\": [[0.0, \"#0d0887\"], [0.1111111111111111, \"#46039f\"], [0.2222222222222222, \"#7201a8\"], [0.3333333333333333, \"#9c179e\"], [0.4444444444444444, \"#bd3786\"], [0.5555555555555556, \"#d8576b\"], [0.6666666666666666, \"#ed7953\"], [0.7777777777777778, \"#fb9f3a\"], [0.8888888888888888, \"#fdca26\"], [1.0, \"#f0f921\"]], \"sequentialminus\": [[0.0, \"#0d0887\"], [0.1111111111111111, \"#46039f\"], [0.2222222222222222, \"#7201a8\"], [0.3333333333333333, \"#9c179e\"], [0.4444444444444444, \"#bd3786\"], [0.5555555555555556, \"#d8576b\"], [0.6666666666666666, \"#ed7953\"], [0.7777777777777778, \"#fb9f3a\"], [0.8888888888888888, \"#fdca26\"], [1.0, \"#f0f921\"]]}, \"colorway\": [\"#636efa\", \"#EF553B\", \"#00cc96\", \"#ab63fa\", \"#FFA15A\", \"#19d3f3\", \"#FF6692\", \"#B6E880\", \"#FF97FF\", \"#FECB52\"], \"font\": {\"color\": \"#2a3f5f\"}, \"geo\": {\"bgcolor\": \"white\", \"lakecolor\": \"white\", \"landcolor\": \"#E5ECF6\", \"showlakes\": true, \"showland\": true, \"subunitcolor\": \"white\"}, \"hoverlabel\": {\"align\": \"left\"}, \"hovermode\": \"closest\", \"mapbox\": {\"style\": \"light\"}, \"paper_bgcolor\": \"white\", \"plot_bgcolor\": \"#E5ECF6\", \"polar\": {\"angularaxis\": {\"gridcolor\": \"white\", \"linecolor\": \"white\", \"ticks\": \"\"}, \"bgcolor\": \"#E5ECF6\", \"radialaxis\": {\"gridcolor\": \"white\", \"linecolor\": \"white\", \"ticks\": \"\"}}, \"scene\": {\"xaxis\": {\"backgroundcolor\": \"#E5ECF6\", \"gridcolor\": \"white\", \"gridwidth\": 2, \"linecolor\": \"white\", \"showbackground\": true, \"ticks\": \"\", \"zerolinecolor\": \"white\"}, \"yaxis\": {\"backgroundcolor\": \"#E5ECF6\", \"gridcolor\": \"white\", \"gridwidth\": 2, \"linecolor\": \"white\", \"showbackground\": true, \"ticks\": \"\", \"zerolinecolor\": \"white\"}, \"zaxis\": {\"backgroundcolor\": \"#E5ECF6\", \"gridcolor\": \"white\", \"gridwidth\": 2, \"linecolor\": \"white\", \"showbackground\": true, \"ticks\": \"\", \"zerolinecolor\": \"white\"}}, \"shapedefaults\": {\"line\": {\"color\": \"#2a3f5f\"}}, \"ternary\": {\"aaxis\": {\"gridcolor\": \"white\", \"linecolor\": \"white\", \"ticks\": \"\"}, \"baxis\": {\"gridcolor\": \"white\", \"linecolor\": \"white\", \"ticks\": \"\"}, \"bgcolor\": \"#E5ECF6\", \"caxis\": {\"gridcolor\": \"white\", \"linecolor\": \"white\", \"ticks\": \"\"}}, \"title\": {\"x\": 0.05}, \"xaxis\": {\"automargin\": true, \"gridcolor\": \"white\", \"linecolor\": \"white\", \"ticks\": \"\", \"title\": {\"standoff\": 15}, \"zerolinecolor\": \"white\", \"zerolinewidth\": 2}, \"yaxis\": {\"automargin\": true, \"gridcolor\": \"white\", \"linecolor\": \"white\", \"ticks\": \"\", \"title\": {\"standoff\": 15}, \"zerolinecolor\": \"white\", \"zerolinewidth\": 2}}}, \"title\": {\"text\": \"COVID-19 Daily Status India\"}, \"xaxis\": {\"title\": {\"text\": \"Date\"}}, \"yaxis\": {\"title\": {\"text\": \"Count\"}}},\n",
              "                        {\"responsive\": true}\n",
              "                    ).then(function(){\n",
              "                            \n",
              "var gd = document.getElementById('d5c50946-8111-46b6-99ae-7d29485fcc29');\n",
              "var x = new MutationObserver(function (mutations, observer) {{\n",
              "        var display = window.getComputedStyle(gd).display;\n",
              "        if (!display || display === 'none') {{\n",
              "            console.log([gd, 'removed!']);\n",
              "            Plotly.purge(gd);\n",
              "            observer.disconnect();\n",
              "        }}\n",
              "}});\n",
              "\n",
              "// Listen for the removal of the full notebook cells\n",
              "var notebookContainer = gd.closest('#notebook-container');\n",
              "if (notebookContainer) {{\n",
              "    x.observe(notebookContainer, {childList: true});\n",
              "}}\n",
              "\n",
              "// Listen for the clearing of the current output cell\n",
              "var outputEl = gd.closest('.output');\n",
              "if (outputEl) {{\n",
              "    x.observe(outputEl, {childList: true});\n",
              "}}\n",
              "\n",
              "                        })\n",
              "                };\n",
              "                \n",
              "            </script>\n",
              "        </div>\n",
              "</body>\n",
              "</html>"
            ]
          },
          "metadata": {
            "tags": []
          }
        },
        {
          "output_type": "execute_result",
          "data": {
            "application/vnd.google.colaboratory.intrinsic+json": {
              "type": "string"
            },
            "text/plain": [
              "'temp-plot.html'"
            ]
          },
          "metadata": {
            "tags": []
          },
          "execution_count": 18
        }
      ]
    }
  ]
}